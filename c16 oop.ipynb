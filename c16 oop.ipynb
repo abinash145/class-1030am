{
 "cells": [
  {
   "cell_type": "code",
   "execution_count": null,
   "metadata": {},
   "outputs": [],
   "source": [
    "class Hello:\n",
    "    pass\n",
    "obj = Hello()"
   ]
  },
  {
   "cell_type": "code",
   "execution_count": 1,
   "metadata": {},
   "outputs": [
    {
     "name": "stdout",
     "output_type": "stream",
     "text": [
      "Hello World\n"
     ]
    }
   ],
   "source": [
    "class Hello:\n",
    "    print(\"Hello World\")\n",
    "obj = Hello()"
   ]
  },
  {
   "cell_type": "code",
   "execution_count": 4,
   "metadata": {},
   "outputs": [
    {
     "name": "stdout",
     "output_type": "stream",
     "text": [
      "Hello World\n"
     ]
    }
   ],
   "source": [
    "class Hello:\n",
    "    def hello(self):\n",
    "        print(\"Hello World\")\n",
    "obj = Hello()\n",
    "obj.hello()"
   ]
  },
  {
   "cell_type": "code",
   "execution_count": 12,
   "metadata": {},
   "outputs": [
    {
     "name": "stdout",
     "output_type": "stream",
     "text": [
      "Hello World\n"
     ]
    }
   ],
   "source": [
    "class Hello:\n",
    "    def hello(self,x):\n",
    "        print(x)\n",
    "obj = Hello()\n",
    "obj.hello(\"Hello World\")"
   ]
  },
  {
   "cell_type": "code",
   "execution_count": 15,
   "metadata": {},
   "outputs": [
    {
     "name": "stdout",
     "output_type": "stream",
     "text": [
      "Enter l =2\n",
      "Enter b =3\n",
      "Enter h =4\n",
      "The area is =  6\n",
      "The volume is =  24\n"
     ]
    }
   ],
   "source": [
    "class Cal():\n",
    "    def area(self,l,b):\n",
    "        a=l*b\n",
    "        print(\"The area is = \",a)\n",
    "    def volume(self,l,b,h):\n",
    "        v=l*b*h\n",
    "        print(\"The volume is = \",v)\n",
    "obj = Cal()\n",
    "l = int(input(\"Enter l =\"))\n",
    "b = int(input(\"Enter b =\"))\n",
    "h = int(input(\"Enter h =\"))\n",
    "obj.area(l,b)\n",
    "obj.volume(l,b,h)"
   ]
  },
  {
   "cell_type": "code",
   "execution_count": 19,
   "metadata": {},
   "outputs": [
    {
     "name": "stdout",
     "output_type": "stream",
     "text": [
      "Enter l =2\n",
      "Enter b =3\n",
      "Enter h =4\n",
      "The area is =  6\n",
      "The volume is =  24\n"
     ]
    }
   ],
   "source": [
    "class Area():\n",
    "    def area(self,l,b):\n",
    "        a=l*b\n",
    "        print(\"The area is = \",a)\n",
    "class Volume():\n",
    "    def volume(self,l,b,h):\n",
    "        v=l*b*h\n",
    "        print(\"The volume is = \",v)\n",
    "obj = Area()\n",
    "obj1 = Volume()\n",
    "l = int(input(\"Enter l =\"))\n",
    "b = int(input(\"Enter b =\"))\n",
    "h = int(input(\"Enter h =\"))\n",
    "obj.area(l,b)\n",
    "obj1.volume(l,b,h)"
   ]
  },
  {
   "cell_type": "code",
   "execution_count": 20,
   "metadata": {},
   "outputs": [
    {
     "name": "stdout",
     "output_type": "stream",
     "text": [
      "Enter l =2\n",
      "Enter b =3\n",
      "Enter h =4\n",
      "The area is =  6\n",
      "The volume is =  24\n"
     ]
    }
   ],
   "source": [
    "class Cal():\n",
    "    def __init__(self,l,b,h):\n",
    "        self.l =l\n",
    "        self.b =b\n",
    "        self.h =h\n",
    "    def area(self):\n",
    "        a=self.l*self.b\n",
    "        print(\"The area is = \",a)\n",
    "    def volume(this):\n",
    "        v=this.l*this.b*this.h\n",
    "        print(\"The volume is = \",v)\n",
    "obj = Cal(l,b,h)\n",
    "l = int(input(\"Enter l =\"))\n",
    "b = int(input(\"Enter b =\"))\n",
    "h = int(input(\"Enter h =\"))\n",
    "obj.area()\n",
    "obj.volume()"
   ]
  },
  {
   "cell_type": "code",
   "execution_count": 26,
   "metadata": {},
   "outputs": [
    {
     "name": "stdout",
     "output_type": "stream",
     "text": [
      "Enter l =2\n",
      "Enter b =3\n",
      "Enter h =4\n",
      "The area is =  6\n",
      "The volume is =  24\n"
     ]
    }
   ],
   "source": [
    "class Cal():\n",
    "    def __init__(self,l,b,h):\n",
    "        self.x =l\n",
    "        self.y =b\n",
    "        self.z =h\n",
    "    def area(self):\n",
    "        a=self.x*self.y\n",
    "        print(\"The area is = \",a)\n",
    "    def volume(this):\n",
    "        v=this.x*this.y*this.z\n",
    "        print(\"The volume is = \",v)\n",
    "obj = Cal(l,b,h)\n",
    "l = int(input(\"Enter l =\"))\n",
    "b = int(input(\"Enter b =\"))\n",
    "h = int(input(\"Enter h =\"))\n",
    "obj.area()\n",
    "obj.volume()"
   ]
  },
  {
   "cell_type": "code",
   "execution_count": 28,
   "metadata": {},
   "outputs": [
    {
     "name": "stdout",
     "output_type": "stream",
     "text": [
      "Enter l =2\n",
      "Enter b =3\n",
      "Enter h =4\n",
      "The area is =  6\n",
      "The volume is =  24\n"
     ]
    }
   ],
   "source": [
    "class Cal():\n",
    "    def __init__(self,l,b):\n",
    "        self.x =l\n",
    "        self.y =b\n",
    "        \n",
    "    def area(self):\n",
    "        a=self.x*self.y\n",
    "        print(\"The area is = \",a)\n",
    "    def volume(this,z):\n",
    "        v=this.x*this.y*z\n",
    "        print(\"The volume is = \",v)\n",
    "obj = Cal(l,b)\n",
    "l = int(input(\"Enter l =\"))\n",
    "b = int(input(\"Enter b =\"))\n",
    "h = int(input(\"Enter h =\"))\n",
    "obj.area()\n",
    "obj.volume(h)"
   ]
  },
  {
   "cell_type": "code",
   "execution_count": 32,
   "metadata": {},
   "outputs": [
    {
     "name": "stdout",
     "output_type": "stream",
     "text": [
      "Enter l =2\n",
      "Enter b =3\n",
      "Enter h =4\n",
      "The area is =  6\n",
      "The volume is =  24\n"
     ]
    }
   ],
   "source": [
    "class Area:\n",
    "    def __init__(self,l,b):\n",
    "        self.x =l\n",
    "        self.y =b\n",
    "        \n",
    "    def area(self):\n",
    "        a=self.x*self.y\n",
    "        print(\"The area is = \",a)\n",
    "class Volume:\n",
    "    def __init__(self,l,b,h):\n",
    "        self.x =l\n",
    "        self.y =b\n",
    "        self.z =h    \n",
    "    def volume(this,z):\n",
    "        v=this.x*this.y*this.z\n",
    "        print(\"The volume is = \",v)\n",
    "obj = Area(l,b)\n",
    "obj1 = Volume(l,b,h)\n",
    "l = int(input(\"Enter l =\"))\n",
    "b = int(input(\"Enter b =\"))\n",
    "h = int(input(\"Enter h =\"))\n",
    "obj.area()\n",
    "obj1.volume()"
   ]
  },
  {
   "cell_type": "code",
   "execution_count": 34,
   "metadata": {},
   "outputs": [
    {
     "name": "stdout",
     "output_type": "stream",
     "text": [
      "Ram\n",
      "Ram\n"
     ]
    }
   ],
   "source": [
    "class Info:\n",
    "    def __init__(self,name,age,adress):\n",
    "        self.name= name\n",
    "        self.age = age\n",
    "        self.address = address\n",
    "    def __str__(self):\n",
    "        return self.name\n",
    "name= \"Ram\"\n",
    "age = 56\n",
    "address = \"Nepal1\"\n",
    "obj = Info(name,age,address)\n",
    "print(obj)\n",
    "print(obj.__str__())"
   ]
  },
  {
   "cell_type": "code",
   "execution_count": 35,
   "metadata": {},
   "outputs": [
    {
     "name": "stdout",
     "output_type": "stream",
     "text": [
      "{'Name': 'Ram'}\n"
     ]
    }
   ],
   "source": [
    "class Info:\n",
    "    def __init__(self,name,age,adress):\n",
    "        self.name= name\n",
    "        self.age = age\n",
    "        self.address = address\n",
    "    def __repr__(self):\n",
    "        return {\"Name\":self.name}\n",
    "name= \"Ram\"\n",
    "age = 56\n",
    "address = \"Nepal1\"\n",
    "obj = Info(name,age,address)\n",
    "\n",
    "print(obj.__repr__())"
   ]
  },
  {
   "cell_type": "code",
   "execution_count": null,
   "metadata": {},
   "outputs": [],
   "source": []
  }
 ],
 "metadata": {
  "kernelspec": {
   "display_name": "Python 3",
   "language": "python",
   "name": "python3"
  },
  "language_info": {
   "codemirror_mode": {
    "name": "ipython",
    "version": 3
   },
   "file_extension": ".py",
   "mimetype": "text/x-python",
   "name": "python",
   "nbconvert_exporter": "python",
   "pygments_lexer": "ipython3",
   "version": "3.8.5"
  }
 },
 "nbformat": 4,
 "nbformat_minor": 4
}
