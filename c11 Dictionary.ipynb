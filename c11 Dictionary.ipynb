{
 "cells": [
  {
   "cell_type": "code",
   "execution_count": 1,
   "metadata": {},
   "outputs": [],
   "source": [
    "# d = {<key>:<Value>,<key>:<Value>}\n"
   ]
  },
  {
   "cell_type": "code",
   "execution_count": 5,
   "metadata": {},
   "outputs": [
    {
     "data": {
      "text/plain": [
       "'Ball'"
      ]
     },
     "execution_count": 5,
     "metadata": {},
     "output_type": "execute_result"
    }
   ],
   "source": [
    "d={\"A\":\"Apple\",\"B\":\"Ball\"}\n",
    "d[\"B\"]\n"
   ]
  },
  {
   "cell_type": "code",
   "execution_count": 6,
   "metadata": {},
   "outputs": [],
   "source": [
    "# Mutable\n",
    "# indexed\n",
    "# ordered\n",
    "# Duplicate"
   ]
  },
  {
   "cell_type": "code",
   "execution_count": 7,
   "metadata": {},
   "outputs": [
    {
     "data": {
      "text/plain": [
       "{'A': 'Apple', 'B': 'Ball'}"
      ]
     },
     "execution_count": 7,
     "metadata": {},
     "output_type": "execute_result"
    }
   ],
   "source": [
    "d={}\n",
    "d['A']=\"Apple\"\n",
    "d['B']=\"Ball\"\n",
    "d"
   ]
  },
  {
   "cell_type": "code",
   "execution_count": 10,
   "metadata": {},
   "outputs": [
    {
     "data": {
      "text/plain": [
       "{'A': 'Ant', 'B': 'Ball'}"
      ]
     },
     "execution_count": 10,
     "metadata": {},
     "output_type": "execute_result"
    }
   ],
   "source": [
    "d[\"A\"]=\"Ant\"\n",
    "d"
   ]
  },
  {
   "cell_type": "code",
   "execution_count": 15,
   "metadata": {},
   "outputs": [],
   "source": [
    "d={}\n",
    "d[0]=\"Apple\"\n",
    "d[1]=\"Ball\""
   ]
  },
  {
   "cell_type": "code",
   "execution_count": 16,
   "metadata": {},
   "outputs": [
    {
     "data": {
      "text/plain": [
       "'Ball'"
      ]
     },
     "execution_count": 16,
     "metadata": {},
     "output_type": "execute_result"
    }
   ],
   "source": [
    "\n",
    "d[1]"
   ]
  },
  {
   "cell_type": "code",
   "execution_count": 18,
   "metadata": {},
   "outputs": [
    {
     "name": "stdout",
     "output_type": "stream",
     "text": [
      "Enter name = Ram\n",
      "Enter phone =987\n",
      "Enter name = dfsd\n",
      "Enter phone =32\n",
      "{'Ram': 987, 'dfsd': 32}\n"
     ]
    }
   ],
   "source": [
    "info = {}\n",
    "for i in range(2):\n",
    "    name = input(\"Enter name = \")\n",
    "    phone = int(input(\"Enter phone =\"))\n",
    "    info[name]=phone\n",
    "print(info)"
   ]
  },
  {
   "cell_type": "code",
   "execution_count": 20,
   "metadata": {},
   "outputs": [
    {
     "name": "stdout",
     "output_type": "stream",
     "text": [
      "{'a': 'Apple', 'c': 'Cat', 'b': 'Ball'}\n"
     ]
    }
   ],
   "source": [
    "a={\"a\":\"Apple\",\"c\":\"Cat\"}\n",
    "b={\"b\":\"Ball\"}\n",
    "a.update(b)\n",
    "print(a)\n",
    "\n"
   ]
  },
  {
   "cell_type": "code",
   "execution_count": 22,
   "metadata": {},
   "outputs": [
    {
     "name": "stdout",
     "output_type": "stream",
     "text": [
      "Apple\n",
      "Cat\n",
      "Ball\n"
     ]
    }
   ],
   "source": [
    "for i in a.values():\n",
    "    print(i)"
   ]
  },
  {
   "cell_type": "code",
   "execution_count": 23,
   "metadata": {},
   "outputs": [
    {
     "name": "stdout",
     "output_type": "stream",
     "text": [
      "('a', 'Apple')\n",
      "('c', 'Cat')\n",
      "('b', 'Ball')\n"
     ]
    }
   ],
   "source": [
    "for i in a.items():\n",
    "    print(i)"
   ]
  },
  {
   "cell_type": "code",
   "execution_count": 25,
   "metadata": {},
   "outputs": [
    {
     "data": {
      "text/plain": [
       "{'c': 'Cat', 'b': 'Ball'}"
      ]
     },
     "execution_count": 25,
     "metadata": {},
     "output_type": "execute_result"
    }
   ],
   "source": [
    "# update clear del pop\n",
    "a = {'a':'Apple','c':'Cat','b':'Ball'}\n",
    "del a['a']\n",
    "a"
   ]
  },
  {
   "cell_type": "code",
   "execution_count": 27,
   "metadata": {},
   "outputs": [
    {
     "data": {
      "text/plain": [
       "{}"
      ]
     },
     "execution_count": 27,
     "metadata": {},
     "output_type": "execute_result"
    }
   ],
   "source": [
    "\n",
    "a = {'a':'Apple','c':'Cat','b':'Ball'}\n",
    "a.clear()\n",
    "a"
   ]
  },
  {
   "cell_type": "code",
   "execution_count": 31,
   "metadata": {},
   "outputs": [
    {
     "name": "stdout",
     "output_type": "stream",
     "text": [
      "Enter name = asfd\n",
      "Enter phone =432\n",
      "Enter phone =432\n",
      "Enter name = sfdfsd\n",
      "Enter phone =24\n",
      "Enter phone =555\n",
      "{'asfd': [432, 432], 'sfdfsd': [24, 555]}\n"
     ]
    }
   ],
   "source": [
    "info = {}\n",
    "for i in range(2):\n",
    "    name = input(\"Enter name = \")\n",
    "    ncell_phone = int(input(\"Enter phone =\"))\n",
    "    ntc_phone = int(input(\"Enter phone =\"))\n",
    "    info[name]=[ncell_phone,ntc_phone]\n",
    "print(info)"
   ]
  },
  {
   "cell_type": "code",
   "execution_count": 32,
   "metadata": {},
   "outputs": [
    {
     "name": "stdout",
     "output_type": "stream",
     "text": [
      "enter name = asfd\n",
      "[432, 432]\n"
     ]
    }
   ],
   "source": [
    "name=input(\"enter name = \")\n",
    "print(info[name])"
   ]
  },
  {
   "cell_type": "code",
   "execution_count": 41,
   "metadata": {},
   "outputs": [
    {
     "data": {
      "text/plain": [
       "{'A': 'Apple', 'B': 'Ball'}"
      ]
     },
     "execution_count": 41,
     "metadata": {},
     "output_type": "execute_result"
    }
   ],
   "source": [
    "b={}\n",
    "\n",
    "a={\"a\":\"Apple\",\"b\":\"Ball\"}\n",
    "for i in a.items():\n",
    "    key = i[0].upper()\n",
    "    value = i[1]\n",
    "    b[key]=value\n",
    "b"
   ]
  },
  {
   "cell_type": "code",
   "execution_count": 42,
   "metadata": {},
   "outputs": [
    {
     "ename": "SyntaxError",
     "evalue": "invalid syntax (<ipython-input-42-5a03aaa0af8f>, line 6)",
     "output_type": "error",
     "traceback": [
      "\u001b[1;36m  File \u001b[1;32m\"<ipython-input-42-5a03aaa0af8f>\"\u001b[1;36m, line \u001b[1;32m6\u001b[0m\n\u001b[1;33m    if key==\"a\"\u001b[0m\n\u001b[1;37m               ^\u001b[0m\n\u001b[1;31mSyntaxError\u001b[0m\u001b[1;31m:\u001b[0m invalid syntax\n"
     ]
    }
   ],
   "source": [
    "b={}\n",
    "a={\"a\":\"Apple\",\"b\":\"Ball\"}\n",
    "for i in a.items():\n",
    "    key = i[0]\n",
    "    if key==\"a\"\n",
    "    value=i[1]\n",
    "    b[key]=value\n",
    "b"
   ]
  },
  {
   "cell_type": "code",
   "execution_count": 47,
   "metadata": {},
   "outputs": [
    {
     "ename": "SyntaxError",
     "evalue": "invalid syntax (<ipython-input-47-f35518f3a288>, line 7)",
     "output_type": "error",
     "traceback": [
      "\u001b[1;36m  File \u001b[1;32m\"<ipython-input-47-f35518f3a288>\"\u001b[1;36m, line \u001b[1;32m7\u001b[0m\n\u001b[1;33m    list(i[0])=\"A\":\u001b[0m\n\u001b[1;37m                  ^\u001b[0m\n\u001b[1;31mSyntaxError\u001b[0m\u001b[1;31m:\u001b[0m invalid syntax\n"
     ]
    }
   ],
   "source": [
    "b=[]\n",
    "a={\"a\":\"Apple\",\"b\":\"Ball\"}\n",
    "for i in a.items():\n",
    "#     x = list(i)\n",
    "#     print(x)\n",
    "    if i[0]=='a':\n",
    "        x= list(i)\n",
    "        x[0]=\"A\"\n",
    "        b.append(x[0])\n",
    "    else:\n",
    "        b.append(list(i))\n"
   ]
  },
  {
   "cell_type": "code",
   "execution_count": 49,
   "metadata": {},
   "outputs": [
    {
     "name": "stdout",
     "output_type": "stream",
     "text": [
      "<class 'list'>\n"
     ]
    }
   ],
   "source": [
    "# dictionary inside list\n",
    "a=[{\"Ram\":987654},{\"Shyam\":4567}]\n",
    "a\n",
    "print(type(a))\n"
   ]
  },
  {
   "cell_type": "code",
   "execution_count": 50,
   "metadata": {},
   "outputs": [
    {
     "data": {
      "text/plain": [
       "{'Ram': 987654}"
      ]
     },
     "execution_count": 50,
     "metadata": {},
     "output_type": "execute_result"
    }
   ],
   "source": [
    "a[0]"
   ]
  },
  {
   "cell_type": "code",
   "execution_count": 52,
   "metadata": {},
   "outputs": [
    {
     "data": {
      "text/plain": [
       "[{'Ram': 987654}, {'Shyam': 4567}, {'Hari': 432048092}, {'Hari': 432048092}]"
      ]
     },
     "execution_count": 52,
     "metadata": {},
     "output_type": "execute_result"
    }
   ],
   "source": [
    "a.append({\"Hari\":432048092})\n",
    "a"
   ]
  },
  {
   "cell_type": "code",
   "execution_count": 55,
   "metadata": {},
   "outputs": [
    {
     "name": "stdout",
     "output_type": "stream",
     "text": [
      "enter the value of n = 2\n",
      "Enter name = ram\n",
      "Enter phone = 234\n",
      "Enter name = rai\n",
      "Enter phone = 234\n",
      "[{'ram': '234'}, {'rai': '234'}]\n"
     ]
    }
   ],
   "source": [
    "z=[]\n",
    "n=int(input(\"enter the value of n = \"))\n",
    "for i in range(n):\n",
    "    name = input(\"Enter name = \")\n",
    "    phone = input(\"Enter phone = \")\n",
    "    d={name:phone}\n",
    "    z.append(d)\n",
    "print(z)"
   ]
  },
  {
   "cell_type": "code",
   "execution_count": 4,
   "metadata": {},
   "outputs": [
    {
     "name": "stdout",
     "output_type": "stream",
     "text": [
      "{'Ram': {'NTC': 987654, 'NCELL': 5678}, 'Shyam': {'NTC': 9876, 'NCELL': 87578578}}\n"
     ]
    }
   ],
   "source": [
    "# dictionary inside dictionary\n",
    "a={\"Ram\":{\"NTC\":987654,\"NCELL\":5678},\"Shyam\":{\"NTC\":9876,\"NCELL\":87578578}}\n",
    "print(a)"
   ]
  },
  {
   "cell_type": "code",
   "execution_count": 5,
   "metadata": {},
   "outputs": [
    {
     "name": "stdout",
     "output_type": "stream",
     "text": [
      "('Ram', {'NTC': 987654, 'NCELL': 5678})\n",
      "('Shyam', {'NTC': 9876, 'NCELL': 87578578})\n"
     ]
    }
   ],
   "source": [
    "for i in a.items():\n",
    "    print(i)"
   ]
  },
  {
   "cell_type": "code",
   "execution_count": 22,
   "metadata": {},
   "outputs": [
    {
     "name": "stdout",
     "output_type": "stream",
     "text": [
      "Enter how many data u wanna put1\n",
      "enter the value of indexewe\n",
      "enter the phone no of ntc312\n",
      "enter the phone no of ncell23\n",
      "{'ewe': {312, 23}}\n"
     ]
    }
   ],
   "source": [
    "x={}\n",
    "y=int(input(\"Enter how many data u wanna put\"))\n",
    "for i in range(y):\n",
    "    a=input(\"enter the value of index\")\n",
    "    b=int(input(\"enter the phone no of ntc\"))\n",
    "    c=int(input(\"enter the phone no of ncell\"))\n",
    "    x[a]={b,c}\n",
    "          \n",
    "print(x)\n",
    "\n"
   ]
  },
  {
   "cell_type": "code",
   "execution_count": 18,
   "metadata": {},
   "outputs": [],
   "source": [
    "# update,enter ,etc"
   ]
  },
  {
   "cell_type": "code",
   "execution_count": null,
   "metadata": {},
   "outputs": [],
   "source": []
  }
 ],
 "metadata": {
  "kernelspec": {
   "display_name": "Python 3",
   "language": "python",
   "name": "python3"
  },
  "language_info": {
   "codemirror_mode": {
    "name": "ipython",
    "version": 3
   },
   "file_extension": ".py",
   "mimetype": "text/x-python",
   "name": "python",
   "nbconvert_exporter": "python",
   "pygments_lexer": "ipython3",
   "version": "3.8.5"
  }
 },
 "nbformat": 4,
 "nbformat_minor": 4
}
