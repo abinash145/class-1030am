{
 "cells": [
  {
   "cell_type": "code",
   "execution_count": 8,
   "metadata": {},
   "outputs": [
    {
     "name": "stdout",
     "output_type": "stream",
     "text": [
      "enter how many item q= 3\n",
      "enter name of the product = abinash\n",
      "enter the  quantity  = 1\n",
      "enter pirce = 2\n",
      "enter name of the product = kumar\n",
      "enter the  quantity  = 2\n",
      "enter pirce = 4\n",
      "enter name of the product = rai'\n",
      "enter the  quantity  = 4\n",
      "enter pirce = 51\n",
      "[['abinash', 1, 2, 2], ['kumar', 2, 4, 8], [\"rai'\", 4, 51, 204]]\n"
     ]
    }
   ],
   "source": [
    "s=[]\n",
    "q=int(input(\"enter how many item q= \"))\n",
    "for i in range(q):\n",
    "    name=input(\"enter name of the product = \")\n",
    "    quantity=int(input(\"enter the  quantity  = \"))\n",
    "    price=int(input(\"enter pirce = \"))\n",
    "    total=quantity*price\n",
    "    t=[name,quantity,price,total]\n",
    "    s.append(t)\n",
    "print(s)\n",
    "        \n"
   ]
  },
  {
   "cell_type": "code",
   "execution_count": 14,
   "metadata": {},
   "outputs": [
    {
     "ename": "IndentationError",
     "evalue": "expected an indented block (<ipython-input-14-3656d87f6c5d>, line 5)",
     "output_type": "error",
     "traceback": [
      "\u001b[1;36m  File \u001b[1;32m\"<ipython-input-14-3656d87f6c5d>\"\u001b[1;36m, line \u001b[1;32m5\u001b[0m\n\u001b[1;33m    print(s)\u001b[0m\n\u001b[1;37m    ^\u001b[0m\n\u001b[1;31mIndentationError\u001b[0m\u001b[1;31m:\u001b[0m expected an indented block\n"
     ]
    }
   ],
   "source": [
    "s=[['abinash', 1, 2, 2], ['kumar', 2, 4, 8], [\"rai'\", 4, 51, 204]]\n",
    "d=int(input(\"enter which index u wanna del\"))\n",
    "for i in s:\n",
    "#     del s[d]\n",
    "print(s)"
   ]
  },
  {
   "cell_type": "code",
   "execution_count": 2,
   "metadata": {},
   "outputs": [
    {
     "name": "stdout",
     "output_type": "stream",
     "text": [
      " Give data9\n",
      "9 * 1 = 9\n",
      "9 * 2 = 18\n",
      "9 * 3 = 27\n",
      "9 * 4 = 36\n",
      "9 * 5 = 45\n",
      "9 * 6 = 54\n",
      "9 * 7 = 63\n",
      "9 * 8 = 72\n",
      "9 * 9 = 81\n",
      "9 * 10 = 90\n"
     ]
    }
   ],
   "source": [
    "a = int ( input (\" Give data\"))\n",
    "for r in range (1,11):\n",
    "    print(a, '*', r, '=', a*r)\n",
    "    "
   ]
  },
  {
   "cell_type": "code",
   "execution_count": 12,
   "metadata": {},
   "outputs": [
    {
     "name": "stdout",
     "output_type": "stream",
     "text": [
      "Enter number to check2\n",
      "it is prime \n"
     ]
    }
   ],
   "source": [
    "a = int (input(\"Enter number to check\"))\n",
    "for r in range (2,a):\n",
    "    if(a%r) == 0 :\n",
    "        print(\"It iscomposite number\")\n",
    "        break\n",
    "else :\n",
    "    print(\"it is prime \")\n",
    "    "
   ]
  },
  {
   "cell_type": "code",
   "execution_count": null,
   "metadata": {},
   "outputs": [],
   "source": []
  }
 ],
 "metadata": {
  "kernelspec": {
   "display_name": "Python 3",
   "language": "python",
   "name": "python3"
  },
  "language_info": {
   "codemirror_mode": {
    "name": "ipython",
    "version": 3
   },
   "file_extension": ".py",
   "mimetype": "text/x-python",
   "name": "python",
   "nbconvert_exporter": "python",
   "pygments_lexer": "ipython3",
   "version": "3.8.5"
  }
 },
 "nbformat": 4,
 "nbformat_minor": 4
}
