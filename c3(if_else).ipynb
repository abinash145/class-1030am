{
 "cells": [
  {
   "cell_type": "code",
   "execution_count": 1,
   "metadata": {},
   "outputs": [],
   "source": [
    "# if<condition>:\n",
    "#     <operation>\n",
    "# elif<conditon>:\n",
    "#     <operations>\n",
    "# elif<condition>:\n",
    "#     <operations>\n",
    "# else:\n",
    "#     <operations>"
   ]
  },
  {
   "cell_type": "code",
   "execution_count": 3,
   "metadata": {},
   "outputs": [],
   "source": [
    "# <> <= >= == != (they are the conditon of operator)"
   ]
  },
  {
   "cell_type": "code",
   "execution_count": 6,
   "metadata": {},
   "outputs": [
    {
     "data": {
      "text/plain": [
       "True"
      ]
     },
     "execution_count": 6,
     "metadata": {},
     "output_type": "execute_result"
    }
   ],
   "source": [
    "a=10\n",
    "b=20\n",
    "a<b"
   ]
  },
  {
   "cell_type": "code",
   "execution_count": 7,
   "metadata": {},
   "outputs": [
    {
     "name": "stdout",
     "output_type": "stream",
     "text": [
      "20\n"
     ]
    }
   ],
   "source": [
    "a=10\n",
    "b=20\n",
    "if a<b:\n",
    "    print(b)\n",
    "else:\n",
    "    print(a)\n",
    "    "
   ]
  },
  {
   "cell_type": "code",
   "execution_count": 9,
   "metadata": {},
   "outputs": [
    {
     "name": "stdout",
     "output_type": "stream",
     "text": [
      "enter the vlue of a=2\n",
      "enter the value of b =2\n",
      "both are equal\n"
     ]
    }
   ],
   "source": [
    "a=int(input(\"enter the vlue of a=\"))\n",
    "b=int(input(\"enter the value of b =\"))\n",
    "if a>b:\n",
    "    print(\"a is greater\")\n",
    "elif a<b:\n",
    "    print(\"b is greater\")\n",
    "else:\n",
    "    print(\"both are equal\")\n",
    "    "
   ]
  },
  {
   "cell_type": "code",
   "execution_count": 7,
   "metadata": {},
   "outputs": [
    {
     "name": "stdout",
     "output_type": "stream",
     "text": [
      "enter the vlue of a=5\n",
      "enter the value of b =5\n",
      "what do wanna do operator\n",
      "enter operator=-\n",
      "0\n"
     ]
    }
   ],
   "source": [
    "\n",
    "a=int(input(\"enter the vlue of a=\"))\n",
    "b=int(input(\"enter the value of b =\"))\n",
    "print(\"what do wanna do operator\")\n",
    "x=input(\"enter operator=\")\n",
    "if x=='+':\n",
    "    print(a+b)\n",
    "elif x=='-':\n",
    "    print(a-b)\n",
    "elif x=='*':\n",
    "    print(a*b)\n",
    "elif x=='/':\n",
    "    print(a/b)\n",
    "else:\n",
    "    print(\"invalid operator\")\n"
   ]
  },
  {
   "cell_type": "code",
   "execution_count": null,
   "metadata": {},
   "outputs": [
    {
     "name": "stdout",
     "output_type": "stream",
     "text": [
      "enter the vlue of a=5\n",
      "enter the value of b =5\n",
      "what do wanna do operator\n",
      "enter operator=+\n",
      "10\n"
     ]
    }
   ],
   "source": [
    "# maile aaefai gareko yoe \n",
    "def ca():\n",
    "    a=int(input(\"enter the vlue of a=\"))\n",
    "    b=int(input(\"enter the value of b =\"))\n",
    "    print(\"what do wanna do operator\")\n",
    "    x=input(\"enter operator=\")\n",
    "    if x=='+':\n",
    "        print(a+b)\n",
    "    elif x=='-':\n",
    "        print(a-b)\n",
    "    elif x=='*':\n",
    "        print(a*b)\n",
    "    elif x=='/':\n",
    "        print(a/b)\n",
    "    else:\n",
    "        print(\"invalid operator\")\n",
    "    z=input(\"if u wanna calculate again= press y =\")\n",
    "    if z==\"y\":\n",
    "        ca()\n",
    "ca()\n"
   ]
  },
  {
   "cell_type": "code",
   "execution_count": 17,
   "metadata": {},
   "outputs": [
    {
     "name": "stdout",
     "output_type": "stream",
     "text": [
      "enter the value of a=5\n",
      "enter the value of b =0\n",
      "what do wanna do operator\n",
      "enter operator=/\n",
      "the value of b can not be zero\n"
     ]
    }
   ],
   "source": [
    "a=int(input(\"enter the value of a=\"))\n",
    "b=int(input(\"enter the value of b =\"))\n",
    "print(\"what do wanna do operator\")\n",
    "x=input(\"enter operator=\")\n",
    "if x=='+':\n",
    "    print(a+b)\n",
    "elif x=='-':\n",
    "    print(a-b)\n",
    "elif x=='*':\n",
    "    print(a*b)\n",
    "elif x=='/':\n",
    "    if b!=0:\n",
    "        print(a/b)\n",
    "    else:print(\"the value of b can not be zero\") \n",
    "else:\n",
    "    print(\"Invalid operator\")\n"
   ]
  },
  {
   "cell_type": "code",
   "execution_count": null,
   "metadata": {},
   "outputs": [],
   "source": [
    "# write a program to make calculator using return type  fucntion\n",
    "def calculator():\n",
    "    a=int(input(\"enter the value of a = \"))\n",
    "    b=input(\"enter the operator like /*-+ = \")\n",
    "    c=int(input(\"enter the value of b = \"))\n",
    "\n",
    "    def add(x,y):\n",
    "        return(x+y)\n",
    "    def sub(x,y):\n",
    "        return(x-y)\n",
    "    def mul(x,y):\n",
    "        return(x*y)\n",
    "    def div(x,y):\n",
    "        return(x/y)\n",
    "    if b==\"+\":\n",
    "        print(add(a,c))\n",
    "    elif b=='-':\n",
    "        print(sub(a,c))\n",
    "    elif b=='*':\n",
    "        print(mul(a,c))\n",
    "    elif b=='/':\n",
    "        print(div(a,c))\n",
    "    else:\n",
    "        print(\"wrong operator\")\n",
    "    x=input(\"press y for using again\")\n",
    "    if x==\"y\":\n",
    "        calculator()\n",
    "calculator()\n",
    "\n",
    "\n"
   ]
  },
  {
   "cell_type": "code",
   "execution_count": null,
   "metadata": {},
   "outputs": [],
   "source": []
  },
  {
   "cell_type": "code",
   "execution_count": null,
   "metadata": {},
   "outputs": [],
   "source": []
  }
 ],
 "metadata": {
  "kernelspec": {
   "display_name": "Python 3",
   "language": "python",
   "name": "python3"
  },
  "language_info": {
   "codemirror_mode": {
    "name": "ipython",
    "version": 3
   },
   "file_extension": ".py",
   "mimetype": "text/x-python",
   "name": "python",
   "nbconvert_exporter": "python",
   "pygments_lexer": "ipython3",
   "version": "3.8.5"
  }
 },
 "nbformat": 4,
 "nbformat_minor": 4
}
