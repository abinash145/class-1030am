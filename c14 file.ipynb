{
 "cells": [
  {
   "cell_type": "code",
   "execution_count": 1,
   "metadata": {},
   "outputs": [],
   "source": [
    "try:\n",
    "    b = open('class1030.txt','x')\n",
    "    b.close()\n",
    "except:\n",
    "    print(\"the file is already there.\")\n",
    "    "
   ]
  },
  {
   "cell_type": "code",
   "execution_count": 5,
   "metadata": {},
   "outputs": [
    {
     "name": "stdout",
     "output_type": "stream",
     "text": [
      "<class 'str'>\n",
      "1.Hello World\n",
      "2.Hello World\n",
      "3.Hello World\n",
      "4.Hello World\n",
      "5.Hello World\n",
      "6.Hello World\n",
      "7.Hello World\n"
     ]
    }
   ],
   "source": [
    "b = open('class1030.txt','r')\n",
    "c = b.read()\n",
    "print(type(c))\n",
    "print(c)\n",
    "b.close()"
   ]
  },
  {
   "cell_type": "code",
   "execution_count": 7,
   "metadata": {},
   "outputs": [
    {
     "name": "stdout",
     "output_type": "stream",
     "text": [
      "['1.Hello World', '']\n"
     ]
    }
   ],
   "source": [
    "# readline()\n",
    "b=open('class1030.txt','r')\n",
    "c=b.readline()\n",
    "print(c)\n",
    "b.close()"
   ]
  },
  {
   "cell_type": "code",
   "execution_count": 8,
   "metadata": {},
   "outputs": [
    {
     "name": "stdout",
     "output_type": "stream",
     "text": [
      "['1.Hello World', '2.Hello World', '3.Hello World', '4.Hello World', '5.Hello World', '6.Hello World', '7.Hello World']\n"
     ]
    }
   ],
   "source": [
    "b=open('class1030.txt','r')\n",
    "c=b.read()\n",
    "print(c.split('\\n'))\n",
    "b.close()"
   ]
  },
  {
   "cell_type": "code",
   "execution_count": 11,
   "metadata": {},
   "outputs": [
    {
     "name": "stdout",
     "output_type": "stream",
     "text": [
      "['1.Hello World', '2.Hello World', '3.Hello World', '4.Hello World', '5.Hello World', '6.Hello World', '7.Hello World']\n"
     ]
    }
   ],
   "source": [
    "b=open('class1030.txt','r')\n",
    "c=b.read()\n",
    "d=c.split('\\n')\n",
    "print(d)\n",
    "b.close()"
   ]
  },
  {
   "cell_type": "code",
   "execution_count": 15,
   "metadata": {},
   "outputs": [
    {
     "name": "stdout",
     "output_type": "stream",
     "text": [
      "Enter n = 1\n",
      "\n"
     ]
    }
   ],
   "source": [
    "b = open('class1030.txt','r')\n",
    "c = b.read()\n",
    "n = int(input(\"Enter n = \"))\n",
    "for i in range(1,8):\n",
    "    if i != n:\n",
    "        b.readline()\n",
    "    else:\n",
    "        print(b.readline())\n",
    "b.close()"
   ]
  },
  {
   "cell_type": "code",
   "execution_count": 16,
   "metadata": {},
   "outputs": [],
   "source": [
    "b=open('class1030.txt','r')"
   ]
  },
  {
   "cell_type": "code",
   "execution_count": 20,
   "metadata": {},
   "outputs": [
    {
     "name": "stdout",
     "output_type": "stream",
     "text": [
      "Enter the n = 2\n",
      "Enter name =abinash\n",
      "Enter phone2\n",
      "Enter name =rai\n",
      "Enter phone432\n",
      "abinash---2\n",
      "rai---432\n",
      "\n"
     ]
    }
   ],
   "source": [
    "s=\"\"\n",
    "n = int(input(\"Enter the n = \"))\n",
    "for i in range(n):\n",
    "    name = input(\"Enter name =\")\n",
    "    phone=int(input(\"Enter phone\"))\n",
    "    info = f\"{name}---{phone}\\n\"\n",
    "    s =s+info\n",
    "print(s)\n",
    "b = open('data.txt','w')\n",
    "b.write(s)\n",
    "b.close()"
   ]
  },
  {
   "cell_type": "code",
   "execution_count": 28,
   "metadata": {},
   "outputs": [
    {
     "name": "stdout",
     "output_type": "stream",
     "text": [
      "Enter the n = 2\n",
      "Enter name =abinash\n",
      "Enter phone243242\n",
      "Enter name =rai\n",
      "Enter phone23424\n",
      "abinash,243242\n",
      "rai,23424\n",
      "\n"
     ]
    }
   ],
   "source": [
    "b = open('data1.csv','w')\n",
    "b.write('Name,Phone\\n')\n",
    "s=\"\"\n",
    "n = int(input(\"Enter the n = \"))\n",
    "for i in range(n):\n",
    "    name = input(\"Enter name =\")\n",
    "    phone=int(input(\"Enter phone\"))\n",
    "    info = f\"{name},{phone}\\n\"\n",
    "    s =s+info\n",
    "print(s)\n",
    "\n",
    "b.write(s)\n",
    "b.close()"
   ]
  },
  {
   "cell_type": "code",
   "execution_count": null,
   "metadata": {},
   "outputs": [],
   "source": []
  },
  {
   "cell_type": "code",
   "execution_count": null,
   "metadata": {},
   "outputs": [],
   "source": []
  }
 ],
 "metadata": {
  "kernelspec": {
   "display_name": "Python 3",
   "language": "python",
   "name": "python3"
  },
  "language_info": {
   "codemirror_mode": {
    "name": "ipython",
    "version": 3
   },
   "file_extension": ".py",
   "mimetype": "text/x-python",
   "name": "python",
   "nbconvert_exporter": "python",
   "pygments_lexer": "ipython3",
   "version": "3.8.5"
  }
 },
 "nbformat": 4,
 "nbformat_minor": 4
}
