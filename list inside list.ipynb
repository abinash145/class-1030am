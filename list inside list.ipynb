{
 "cells": [
  {
   "cell_type": "code",
   "execution_count": 2,
   "metadata": {},
   "outputs": [
    {
     "name": "stdout",
     "output_type": "stream",
     "text": [
      "[[], [], [], []]\n",
      "<class 'list'>\n",
      "4\n"
     ]
    }
   ],
   "source": [
    "a = [[],[],[],[]]\n",
    "print(a)\n",
    "print(type(a))\n",
    "print(len(a))"
   ]
  },
  {
   "cell_type": "code",
   "execution_count": 5,
   "metadata": {},
   "outputs": [
    {
     "data": {
      "text/plain": [
       "[7, 8, 9]"
      ]
     },
     "execution_count": 5,
     "metadata": {},
     "output_type": "execute_result"
    }
   ],
   "source": [
    "a = [[1,2,3],\n",
    "     [4,5,6],\n",
    "     [7,8,9]]\n",
    "a[2]"
   ]
  },
  {
   "cell_type": "code",
   "execution_count": 7,
   "metadata": {},
   "outputs": [
    {
     "data": {
      "text/plain": [
       "1"
      ]
     },
     "execution_count": 7,
     "metadata": {},
     "output_type": "execute_result"
    }
   ],
   "source": [
    "a = [[1,2,3],\n",
    "     [4,5,6],\n",
    "     [7,8,9]]\n",
    "a[0][0]"
   ]
  },
  {
   "cell_type": "code",
   "execution_count": 11,
   "metadata": {},
   "outputs": [
    {
     "name": "stdout",
     "output_type": "stream",
     "text": [
      "Enter n = 2\n",
      "Enter name = Ram\n",
      "Enter phone = 867867878\n",
      "Enter name = Shyam\n",
      "Enter phone = 8869696\n",
      "[[1, 'Ram', 867867878], [2, 'Shyam', 8869696]]\n"
     ]
    }
   ],
   "source": [
    "data = []\n",
    "n = int(input(\"Enter n = \"))\n",
    "for i in range(1,n+1):\n",
    "    name = input('Enter name = ')\n",
    "    phone = int(input(\"Enter phone = \"))\n",
    "    info = [i,name,phone]\n",
    "    data.append(info)\n",
    "print(data)"
   ]
  },
  {
   "cell_type": "code",
   "execution_count": 10,
   "metadata": {},
   "outputs": [
    {
     "data": {
      "text/plain": [
       "['Shyam', 234242343]"
      ]
     },
     "execution_count": 10,
     "metadata": {},
     "output_type": "execute_result"
    }
   ],
   "source": [
    "data[1]"
   ]
  },
  {
   "cell_type": "code",
   "execution_count": 12,
   "metadata": {},
   "outputs": [
    {
     "name": "stdout",
     "output_type": "stream",
     "text": [
      "Enter n = 2\n",
      "Enter name = Ram\n",
      "Enter phone = 33534534\n",
      "Enter name = Shyam\n",
      "Enter phone = 33535354543\n",
      "Ram--33534534\n",
      "Shyam--33535354543\n",
      "\n"
     ]
    }
   ],
   "source": [
    "s = \"\"\n",
    "n = int(input(\"Enter n = \"))\n",
    "for i in range(n):\n",
    "    name = input(\"Enter name = \")\n",
    "    phone = int(input(\"Enter phone = \"))\n",
    "    info = f\"{name}--{phone}\\n\"\n",
    "    s = s+info\n",
    "print(s)"
   ]
  },
  {
   "cell_type": "code",
   "execution_count": 21,
   "metadata": {},
   "outputs": [
    {
     "data": {
      "text/plain": [
       "[['Ram', '33534534'], ['Shyam', '33535354543']]"
      ]
     },
     "execution_count": 21,
     "metadata": {},
     "output_type": "execute_result"
    }
   ],
   "source": [
    "y = []\n",
    "data = s.split('\\n')[0:-1]\n",
    "for i in data:\n",
    "    x = i.split('--')\n",
    "    y.append(x)\n",
    "    \n",
    "y"
   ]
  },
  {
   "cell_type": "code",
   "execution_count": 23,
   "metadata": {},
   "outputs": [
    {
     "data": {
      "text/plain": [
       "[['Apple'], ['Ball']]"
      ]
     },
     "execution_count": 23,
     "metadata": {},
     "output_type": "execute_result"
    }
   ],
   "source": [
    "a =[[\"Apple\"]]\n",
    "b = [[\"Ball\"]]\n",
    "a+b"
   ]
  },
  {
   "cell_type": "code",
   "execution_count": 25,
   "metadata": {},
   "outputs": [
    {
     "data": {
      "text/plain": [
       "[['Ant'], ['Ball']]"
      ]
     },
     "execution_count": 25,
     "metadata": {},
     "output_type": "execute_result"
    }
   ],
   "source": [
    "a = [['Apple'], ['Ball']]\n",
    "a[0] = [\"Ant\"]\n",
    "a"
   ]
  },
  {
   "cell_type": "code",
   "execution_count": 1,
   "metadata": {},
   "outputs": [
    {
     "name": "stdout",
     "output_type": "stream",
     "text": [
      "Enter name = shyam\n"
     ]
    },
    {
     "ename": "AttributeError",
     "evalue": "'list' object has no attribute 'lower'",
     "output_type": "error",
     "traceback": [
      "\u001b[1;31m---------------------------------------------------------------------------\u001b[0m",
      "\u001b[1;31mAttributeError\u001b[0m                            Traceback (most recent call last)",
      "\u001b[1;32m<ipython-input-1-2d1882c90782>\u001b[0m in \u001b[0;36m<module>\u001b[1;34m\u001b[0m\n\u001b[0;32m      2\u001b[0m \u001b[0mname\u001b[0m \u001b[1;33m=\u001b[0m \u001b[0minput\u001b[0m\u001b[1;33m(\u001b[0m\u001b[1;34m\"Enter name = \"\u001b[0m\u001b[1;33m)\u001b[0m\u001b[1;33m\u001b[0m\u001b[1;33m\u001b[0m\u001b[0m\n\u001b[0;32m      3\u001b[0m \u001b[1;32mfor\u001b[0m \u001b[0mi\u001b[0m \u001b[1;32min\u001b[0m \u001b[0ma\u001b[0m\u001b[1;33m:\u001b[0m\u001b[1;33m\u001b[0m\u001b[1;33m\u001b[0m\u001b[0m\n\u001b[1;32m----> 4\u001b[1;33m     \u001b[1;32mif\u001b[0m \u001b[0mname\u001b[0m\u001b[1;33m.\u001b[0m\u001b[0mlower\u001b[0m\u001b[1;33m(\u001b[0m\u001b[1;33m)\u001b[0m \u001b[1;32min\u001b[0m \u001b[0mi\u001b[0m\u001b[1;33m.\u001b[0m\u001b[0mlower\u001b[0m\u001b[1;33m(\u001b[0m\u001b[1;33m)\u001b[0m\u001b[1;33m:\u001b[0m\u001b[1;33m\u001b[0m\u001b[1;33m\u001b[0m\u001b[0m\n\u001b[0m\u001b[0;32m      5\u001b[0m         \u001b[0mprint\u001b[0m\u001b[1;33m(\u001b[0m\u001b[0mi\u001b[0m\u001b[1;33m)\u001b[0m\u001b[1;33m\u001b[0m\u001b[1;33m\u001b[0m\u001b[0m\n",
      "\u001b[1;31mAttributeError\u001b[0m: 'list' object has no attribute 'lower'"
     ]
    }
   ],
   "source": [
    "a = [['Ram',\"Nepal\",'33534534'], ['Shyam',\"USA\", '33535354543']]\n",
    "name = input(\"Enter name = \")\n",
    "for i in a:\n",
    "    if name.lower() in i[].lower():\n",
    "        print(i)"
   ]
  },
  {
   "cell_type": "code",
   "execution_count": 1,
   "metadata": {},
   "outputs": [
    {
     "name": "stdout",
     "output_type": "stream",
     "text": [
      "Enter n = 2\n",
      "Enter name = ab\n",
      "Enter price = 5\n",
      "Enter quantity 5\n",
      "Enter name = afds\n",
      "Enter price = 2\n",
      "Enter quantity 4\n",
      "The billing is = \n",
      " [['ab', 5, 5, 25], ['afds', 2, 4, 8]]\n",
      "The total =  33\n"
     ]
    }
   ],
   "source": [
    "s = []\n",
    "all_total = 0\n",
    "n = int(input(\"Enter n = \"))\n",
    "for i in range(n):\n",
    "    product = input(\"Enter name = \")\n",
    "    price = int(input(\"Enter price = \"))\n",
    "    quantity = int(input(\"Enter quantity \"))\n",
    "    total = price*quantity\n",
    "    data = [[product,price,quantity,total]]\n",
    "    all_total = all_total+total\n",
    "    s = s+data\n",
    "    \n",
    "    \n",
    "print(\"The billing is = \\n\",s)\n",
    "print(\"The total = \",all_total)"
   ]
  },
  {
   "cell_type": "code",
   "execution_count": null,
   "metadata": {},
   "outputs": [
    {
     "name": "stdout",
     "output_type": "stream",
     "text": [
      "enter name4\n"
     ]
    }
   ],
   "source": [
    "name = input(\"enter name\")\n",
    "quantity = int(input(\"enter name\"))\n",
    "price = int(input(\"enter name\"))\n",
    "total=quantity*price\n",
    "a = s=[['Apple,100,2,200'],['Banana',200,3,600]]\n",
    "a.append([name,quantity,price,total])\n",
    "print(a)"
   ]
  },
  {
   "cell_type": "code",
   "execution_count": null,
   "metadata": {},
   "outputs": [],
   "source": [
    "a = s=[['Apple,100,2,200'],['Banana',200,3,600]]\n",
    "name= input(\"Enter name =\")\n",
    "for i in a:\n",
    "    if name.lower() in i[0].lower():\n",
    "        print(i)"
   ]
  },
  {
   "cell_type": "code",
   "execution_count": 1,
   "metadata": {},
   "outputs": [
    {
     "name": "stdout",
     "output_type": "stream",
     "text": [
      "enter the new index\n"
     ]
    },
    {
     "ename": "ValueError",
     "evalue": "invalid literal for int() with base 10: ''",
     "output_type": "error",
     "traceback": [
      "\u001b[1;31m---------------------------------------------------------------------------\u001b[0m",
      "\u001b[1;31mValueError\u001b[0m                                Traceback (most recent call last)",
      "\u001b[1;32m<ipython-input-1-61e74a77ac01>\u001b[0m in \u001b[0;36m<module>\u001b[1;34m\u001b[0m\n\u001b[0;32m      1\u001b[0m \u001b[0ms\u001b[0m \u001b[1;33m=\u001b[0m \u001b[1;33m[\u001b[0m\u001b[1;33m[\u001b[0m\u001b[1;34m'Apple'\u001b[0m\u001b[1;33m,\u001b[0m\u001b[1;34m'100'\u001b[0m\u001b[1;33m,\u001b[0m\u001b[1;36m2\u001b[0m\u001b[1;33m,\u001b[0m\u001b[1;36m200\u001b[0m\u001b[1;33m]\u001b[0m\u001b[1;33m,\u001b[0m\u001b[1;33m[\u001b[0m\u001b[1;34m'Banana'\u001b[0m\u001b[1;33m,\u001b[0m\u001b[1;36m200\u001b[0m\u001b[1;33m,\u001b[0m\u001b[1;36m3\u001b[0m\u001b[1;33m,\u001b[0m\u001b[1;36m600\u001b[0m\u001b[1;33m]\u001b[0m\u001b[1;33m,\u001b[0m\u001b[1;33m[\u001b[0m\u001b[1;34m'milk,100,3,300'\u001b[0m\u001b[1;33m]\u001b[0m\u001b[1;33m]\u001b[0m\u001b[1;33m\u001b[0m\u001b[1;33m\u001b[0m\u001b[0m\n\u001b[1;32m----> 2\u001b[1;33m \u001b[0mindex\u001b[0m\u001b[1;33m=\u001b[0m\u001b[0mint\u001b[0m\u001b[1;33m(\u001b[0m\u001b[0minput\u001b[0m\u001b[1;33m(\u001b[0m\u001b[1;34m\"enter the new index\"\u001b[0m\u001b[1;33m)\u001b[0m\u001b[1;33m)\u001b[0m\u001b[1;33m\u001b[0m\u001b[1;33m\u001b[0m\u001b[0m\n\u001b[0m\u001b[0;32m      3\u001b[0m \u001b[0mquatity\u001b[0m\u001b[1;33m=\u001b[0m\u001b[0mint\u001b[0m\u001b[1;33m(\u001b[0m\u001b[0minput\u001b[0m\u001b[1;33m(\u001b[0m\u001b[1;34m\"Enter quantity\"\u001b[0m\u001b[1;33m)\u001b[0m\u001b[1;33m)\u001b[0m\u001b[1;33m\u001b[0m\u001b[1;33m\u001b[0m\u001b[0m\n\u001b[0;32m      4\u001b[0m \u001b[0mtotal\u001b[0m \u001b[1;33m=\u001b[0m \u001b[0ms\u001b[0m\u001b[1;33m[\u001b[0m\u001b[0mindex\u001b[0m\u001b[1;33m]\u001b[0m\u001b[1;33m[\u001b[0m\u001b[1;36m1\u001b[0m\u001b[1;33m]\u001b[0m\u001b[1;33m*\u001b[0m\u001b[0mquantity\u001b[0m\u001b[1;33m\u001b[0m\u001b[1;33m\u001b[0m\u001b[0m\n\u001b[0;32m      5\u001b[0m \u001b[0ms\u001b[0m\u001b[1;33m[\u001b[0m\u001b[0mindex\u001b[0m\u001b[1;33m]\u001b[0m\u001b[1;33m[\u001b[0m\u001b[1;36m2\u001b[0m\u001b[1;33m]\u001b[0m\u001b[1;33m=\u001b[0m\u001b[0mquantity\u001b[0m\u001b[1;33m\u001b[0m\u001b[1;33m\u001b[0m\u001b[0m\n",
      "\u001b[1;31mValueError\u001b[0m: invalid literal for int() with base 10: ''"
     ]
    }
   ],
   "source": [
    "s = [['Apple','100',2,200],['Banana',200,3,600],['milk,100,3,300']]\n",
    "index=int(input(\"enter the new index\"))\n",
    "quatity=int(input(\"Enter quantity\"))\n",
    "total = s[index][1]*quantity\n",
    "s[index][2]=quantity\n",
    "s[index][3]=total\n",
    "print(s)\n"
   ]
  },
  {
   "cell_type": "code",
   "execution_count": null,
   "metadata": {},
   "outputs": [],
   "source": [
    "# s=[]\n",
    "# n=int(input(\"enter how many product are there\"))\n",
    "# for i in range(n):\n",
    "#     name=input(\"enter product name\")\n",
    "#     quantity=int(input(\"input product quantity\"))\n",
    "#     cost=int(input(\"enter product price\"))\n",
    "#     total=quantity*cost\n",
    "#     data=[[name,quantity,cost,total]]\n",
    "#     s=s+data\n",
    "# print(a)\n",
    "\n",
    "\n",
    "\n",
    "    \n",
    "    "
   ]
  },
  {
   "cell_type": "code",
   "execution_count": null,
   "metadata": {},
   "outputs": [],
   "source": [
    "# wap to update change or del the quantity in shopping"
   ]
  },
  {
   "cell_type": "code",
   "execution_count": 6,
   "metadata": {},
   "outputs": [
    {
     "name": "stdout",
     "output_type": "stream",
     "text": [
      "enter i = 5\n",
      "enter j = 5\n",
      "Enter x = 12\n",
      "Enter x = 2\n",
      "Enter x = 3\n",
      "Enter x = 4\n",
      "Enter x = 1\n",
      "Enter x = 2\n",
      "Enter x = 3\n",
      "Enter x = 5\n",
      "Enter x = 1\n",
      "Enter x = 5\n",
      "Enter x = 1\n",
      "Enter x = 5\n",
      "Enter x = 6\n",
      "Enter x = 2\n",
      "Enter x = 6\n",
      "Enter x = 7\n",
      "Enter x = 4\n",
      "Enter x = 7\n",
      "Enter x = 8\n",
      "Enter x = 4\n",
      "Enter x = 5\n",
      "Enter x = 6\n",
      "Enter x = 7\n",
      "Enter x = 8\n",
      "Enter x = 8\n",
      "[[12, 2, 3, 4, 1], [2, 3, 5, 1, 5], [1, 5, 6, 2, 6], [7, 4, 7, 8, 4], [5, 6, 7, 8, 8]]\n"
     ]
    }
   ],
   "source": [
    "z=[]\n",
    "r = int(input(\"enter i = \"))\n",
    "c = int(input(\"enter j = \"))\n",
    "for i in range(r):\n",
    "    y=[]\n",
    "    for j in range(c):\n",
    "        x=int(input(\"Enter x = \"))\n",
    "        y.append(x)\n",
    "    z.append(y)\n",
    "print(z)\n"
   ]
  },
  {
   "cell_type": "code",
   "execution_count": 7,
   "metadata": {},
   "outputs": [
    {
     "name": "stdout",
     "output_type": "stream",
     "text": [
      "['apple', 'lemon', 'banana', 'cherry']\n"
     ]
    }
   ],
   "source": [
    "fruits = [\"apple\", \"banana\", \"cherry\"]\n",
    "fruits.insert(1,\"lemon\")\n",
    "print(fruits)"
   ]
  },
  {
   "cell_type": "code",
   "execution_count": 8,
   "metadata": {},
   "outputs": [
    {
     "name": "stdout",
     "output_type": "stream",
     "text": [
      "enter i = 2\n",
      "enter j = 2\n",
      "Enter x = 1\n",
      "Enter x = 2\n",
      "[1, 2]\n",
      "Enter x = 3\n",
      "Enter x = 4\n",
      "[3, 4]\n",
      "[[1, 2], [3, 4]]\n"
     ]
    }
   ],
   "source": [
    "z=[]\n",
    "r = int(input(\"enter i = \"))\n",
    "c = int(input(\"enter j = \"))\n",
    "for i in range(r):\n",
    "    y=[]\n",
    "    for j in range(c):\n",
    "        x=int(input(\"Enter x = \"))\n",
    "        y.append(x) \n",
    "    z.append(y)\n",
    "print(z)"
   ]
  },
  {
   "cell_type": "code",
   "execution_count": null,
   "metadata": {},
   "outputs": [],
   "source": []
  }
 ],
 "metadata": {
  "kernelspec": {
   "display_name": "Python 3",
   "language": "python",
   "name": "python3"
  },
  "language_info": {
   "codemirror_mode": {
    "name": "ipython",
    "version": 3
   },
   "file_extension": ".py",
   "mimetype": "text/x-python",
   "name": "python",
   "nbconvert_exporter": "python",
   "pygments_lexer": "ipython3",
   "version": "3.8.5"
  }
 },
 "nbformat": 4,
 "nbformat_minor": 2
}
