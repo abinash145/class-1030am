{
 "cells": [
  {
   "cell_type": "code",
   "execution_count": 1,
   "metadata": {},
   "outputs": [
    {
     "name": "stdout",
     "output_type": "stream",
     "text": [
      "Enter age = Ten\n"
     ]
    },
    {
     "ename": "ValueError",
     "evalue": "invalid literal for int() with base 10: 'Ten'",
     "output_type": "error",
     "traceback": [
      "\u001b[1;31m---------------------------------------------------------------------------\u001b[0m",
      "\u001b[1;31mValueError\u001b[0m                                Traceback (most recent call last)",
      "\u001b[1;32m<ipython-input-1-bcd606cbe2d7>\u001b[0m in \u001b[0;36m<module>\u001b[1;34m\u001b[0m\n\u001b[1;32m----> 1\u001b[1;33m \u001b[0mage\u001b[0m \u001b[1;33m=\u001b[0m \u001b[0mint\u001b[0m\u001b[1;33m(\u001b[0m\u001b[0minput\u001b[0m\u001b[1;33m(\u001b[0m\u001b[1;34m\"Enter age = \"\u001b[0m\u001b[1;33m)\u001b[0m\u001b[1;33m)\u001b[0m\u001b[1;33m\u001b[0m\u001b[1;33m\u001b[0m\u001b[0m\n\u001b[0m",
      "\u001b[1;31mValueError\u001b[0m: invalid literal for int() with base 10: 'Ten'"
     ]
    }
   ],
   "source": [
    "age = int(input(\"Enter age = \"))\n"
   ]
  },
  {
   "cell_type": "code",
   "execution_count": 2,
   "metadata": {},
   "outputs": [
    {
     "name": "stdout",
     "output_type": "stream",
     "text": [
      "Enter age=Ten\n",
      "The age should be in int\n"
     ]
    }
   ],
   "source": [
    "try:\n",
    "    age=int(input(\"Enter age=\"))\n",
    "except:\n",
    "    print(\"The age should be in int\")"
   ]
  },
  {
   "cell_type": "code",
   "execution_count": 7,
   "metadata": {},
   "outputs": [
    {
     "name": "stdout",
     "output_type": "stream",
     "text": [
      "Enter name =abinas\n",
      "Enter age=24\n",
      "Hello my name is abinas.I am 24 years old.\n"
     ]
    }
   ],
   "source": [
    "try:\n",
    "    name=input(\"Enter name =\")\n",
    "    age=int(input(\"Enter age=\"))\n",
    "    info=f\"Hello my name is {name}.I am {age} years old.\"\n",
    "    print(info)\n",
    "except:\n",
    "    print(\"The age should be in int\")"
   ]
  },
  {
   "cell_type": "code",
   "execution_count": 9,
   "metadata": {},
   "outputs": [
    {
     "name": "stdout",
     "output_type": "stream",
     "text": [
      "Enter name =asdjfahfd\n",
      "Enter age=234\n",
      "The age should be in int\n"
     ]
    }
   ],
   "source": [
    "try:\n",
    "    name=input(\"Enter name =\")\n",
    "    age=int(input(\"Enter age=\"))\n",
    "    info=\"Hello my name is name\"+name+\"I am {age} years \"+age\n",
    "    print(info)\n",
    "except:\n",
    "    print(\"The age should be in int\")"
   ]
  },
  {
   "cell_type": "code",
   "execution_count": 12,
   "metadata": {},
   "outputs": [
    {
     "name": "stdout",
     "output_type": "stream",
     "text": [
      "Enter name =abinsah\n",
      "Enter age=10\n"
     ]
    },
    {
     "ename": "TypeError",
     "evalue": "can only concatenate str (not \"int\") to str",
     "output_type": "error",
     "traceback": [
      "\u001b[1;31m---------------------------------------------------------------------------\u001b[0m",
      "\u001b[1;31mTypeError\u001b[0m                                 Traceback (most recent call last)",
      "\u001b[1;32m<ipython-input-12-c86cf411ee01>\u001b[0m in \u001b[0;36m<module>\u001b[1;34m\u001b[0m\n\u001b[0;32m      1\u001b[0m \u001b[0mname\u001b[0m\u001b[1;33m=\u001b[0m\u001b[0minput\u001b[0m\u001b[1;33m(\u001b[0m\u001b[1;34m\"Enter name =\"\u001b[0m\u001b[1;33m)\u001b[0m\u001b[1;33m\u001b[0m\u001b[1;33m\u001b[0m\u001b[0m\n\u001b[0;32m      2\u001b[0m \u001b[0mage\u001b[0m\u001b[1;33m=\u001b[0m\u001b[0mint\u001b[0m\u001b[1;33m(\u001b[0m\u001b[0minput\u001b[0m\u001b[1;33m(\u001b[0m\u001b[1;34m\"Enter age=\"\u001b[0m\u001b[1;33m)\u001b[0m\u001b[1;33m)\u001b[0m\u001b[1;33m\u001b[0m\u001b[1;33m\u001b[0m\u001b[0m\n\u001b[1;32m----> 3\u001b[1;33m \u001b[0minfo\u001b[0m\u001b[1;33m=\u001b[0m\u001b[1;34m\"Hello my name is name\"\u001b[0m\u001b[1;33m+\u001b[0m\u001b[0mname\u001b[0m\u001b[1;33m+\u001b[0m\u001b[1;34m\"I am {age} years \"\u001b[0m\u001b[1;33m+\u001b[0m\u001b[0mage\u001b[0m\u001b[1;33m\u001b[0m\u001b[1;33m\u001b[0m\u001b[0m\n\u001b[0m\u001b[0;32m      4\u001b[0m \u001b[0mprint\u001b[0m\u001b[1;33m(\u001b[0m\u001b[0minfo\u001b[0m\u001b[1;33m)\u001b[0m\u001b[1;33m\u001b[0m\u001b[1;33m\u001b[0m\u001b[0m\n",
      "\u001b[1;31mTypeError\u001b[0m: can only concatenate str (not \"int\") to str"
     ]
    }
   ],
   "source": [
    "name=input(\"Enter name =\")\n",
    "age=int(input(\"Enter age=\"))\n",
    "info=\"Hello my name is name\"+name+\"I am {age} years \"+age\n",
    "print(info)"
   ]
  },
  {
   "cell_type": "code",
   "execution_count": 22,
   "metadata": {},
   "outputs": [
    {
     "name": "stdout",
     "output_type": "stream",
     "text": [
      "Enter a =10\n",
      "Enter b =0\n",
      "There is error\n"
     ]
    }
   ],
   "source": [
    "try:\n",
    "    a = int(input(\"Enter a =\"))\n",
    "    b = int(input(\"Enter b =\"))\n",
    "    c = a/b\n",
    "    print(c)\n",
    "except ZeroDivisionError:\n",
    "    print(\"There is error\")\n",
    "except ValueError:\n",
    "    print(\"a and b should be int\")"
   ]
  },
  {
   "cell_type": "code",
   "execution_count": 23,
   "metadata": {},
   "outputs": [
    {
     "name": "stdout",
     "output_type": "stream",
     "text": [
      "Enter a =sdf\n",
      "There is error\n"
     ]
    }
   ],
   "source": [
    "try:\n",
    "    a = int(input(\"Enter a =\"))\n",
    "    b = int(input(\"Enter b =\"))\n",
    "    c = a/b\n",
    "    print(c)\n",
    "except (ZeroDivisionError,ValueError):\n",
    "    print(\"There is error\")"
   ]
  },
  {
   "cell_type": "code",
   "execution_count": 24,
   "metadata": {},
   "outputs": [
    {
     "name": "stdout",
     "output_type": "stream",
     "text": [
      "Enter a =sdjf\n",
      "a and b should be int\n",
      "Enter a =23\n",
      "Enter b =jsdlfjd\n",
      "a and b should be int\n",
      "Enter a =23\n",
      "Enter b =43\n",
      "0.5348837209302325\n"
     ]
    }
   ],
   "source": [
    "def cal():\n",
    "    try:\n",
    "        a = int(input(\"Enter a =\"))\n",
    "        b = int(input(\"Enter b =\"))\n",
    "        c = a/b\n",
    "        print(c)\n",
    "    except ZeroDivisionError:\n",
    "        print(\"There is error\")\n",
    "        cal()\n",
    "    except ValueError:\n",
    "        print(\"a and b should be int\")\n",
    "        cal()\n",
    "cal()"
   ]
  },
  {
   "cell_type": "code",
   "execution_count": 26,
   "metadata": {},
   "outputs": [
    {
     "name": "stdout",
     "output_type": "stream",
     "text": [
      "Enter a =10\n",
      "Enter b =5\n",
      "2.0\n",
      "This is else block\n",
      "The  value of c =  2.0\n"
     ]
    }
   ],
   "source": [
    "try:\n",
    "    a = int(input(\"Enter a =\"))\n",
    "    b = int(input(\"Enter b =\"))\n",
    "    c = a/b\n",
    "    print(c)\n",
    "except ZeroDivisionError:\n",
    "    print(\"This is ZeroDivisonError\")\n",
    "    print(\"The value of b should not be zero\")\n",
    "except ValueError:\n",
    "    print(\"This is ValueError\")\n",
    "    print(\"a and b should be int\")\n",
    "    \n",
    "else:\n",
    "    print(\"This is else block\")\n",
    "    print(\"The  value of c = \",c)\n",
    "    "
   ]
  },
  {
   "cell_type": "code",
   "execution_count": 27,
   "metadata": {},
   "outputs": [
    {
     "name": "stdout",
     "output_type": "stream",
     "text": [
      "Enter a =sdfsdf\n",
      "This is ValueError\n",
      "a and b should be int\n",
      "Thank you\n"
     ]
    }
   ],
   "source": [
    "try:\n",
    "    a = int(input(\"Enter a =\"))\n",
    "    b = int(input(\"Enter b =\"))\n",
    "    c = a/b\n",
    "    print(c)\n",
    "except ZeroDivisionError:\n",
    "    print(\"This is ZeroDivisonError\")\n",
    "    print(\"The value of b should not be zero\")\n",
    "except ValueError:\n",
    "    print(\"This is ValueError\")\n",
    "    print(\"a and b should be int\")\n",
    "    \n",
    "else:\n",
    "    print(\"This is else block\")\n",
    "    print(\"The  value of c = \",c)\n",
    "finally:\n",
    "    print(\"Thank you\")"
   ]
  },
  {
   "cell_type": "code",
   "execution_count": 28,
   "metadata": {},
   "outputs": [
    {
     "name": "stdout",
     "output_type": "stream",
     "text": [
      "Enter a =32\n",
      "Enter b =efs\n",
      "a and b should be int\n",
      "Enter a =23\n",
      "Enter b =43\n",
      "0.5348837209302325\n",
      "This is finally block\n",
      "This is finally block\n"
     ]
    }
   ],
   "source": [
    "def cal():\n",
    "    try:\n",
    "        a = int(input(\"Enter a =\"))\n",
    "        b = int(input(\"Enter b =\"))\n",
    "        c = a/b\n",
    "        print(c)\n",
    "    except ZeroDivisionError:\n",
    "        print(\"There is error\")\n",
    "        cal()\n",
    "    except ValueError:\n",
    "        print(\"a and b should be int\")\n",
    "        cal()\n",
    "    finally:\n",
    "        print(\"This is finally block\")\n",
    "cal()"
   ]
  },
  {
   "cell_type": "code",
   "execution_count": null,
   "metadata": {},
   "outputs": [],
   "source": [
    "# WAP to count the unsuccessful execution"
   ]
  },
  {
   "cell_type": "code",
   "execution_count": 30,
   "metadata": {},
   "outputs": [
    {
     "ename": "ZeroDivisionError",
     "evalue": "",
     "output_type": "error",
     "traceback": [
      "\u001b[1;31m---------------------------------------------------------------------------\u001b[0m",
      "\u001b[1;31mZeroDivisionError\u001b[0m                         Traceback (most recent call last)",
      "\u001b[1;32m<ipython-input-30-c62fc6984c64>\u001b[0m in \u001b[0;36m<module>\u001b[1;34m\u001b[0m\n\u001b[1;32m----> 1\u001b[1;33m \u001b[1;32mraise\u001b[0m \u001b[0mZeroDivisionError\u001b[0m\u001b[1;33m\u001b[0m\u001b[1;33m\u001b[0m\u001b[0m\n\u001b[0m",
      "\u001b[1;31mZeroDivisionError\u001b[0m: "
     ]
    }
   ],
   "source": [
    "raise ZeroDivisionError"
   ]
  },
  {
   "cell_type": "code",
   "execution_count": 32,
   "metadata": {},
   "outputs": [
    {
     "name": "stdout",
     "output_type": "stream",
     "text": [
      "Enter a =2\n",
      "Enter b =0\n",
      "The value of b can't be 0\n"
     ]
    }
   ],
   "source": [
    "try:\n",
    "    a = int(input(\"Enter a =\"))\n",
    "    b = int(input(\"Enter b =\"))\n",
    "    if b%2 == 0:\n",
    "        raise ZeroDivisionError\n",
    "    else:\n",
    "        print(\"a/b=\",a/b)\n",
    "except ZeroDivisionError:\n",
    "    print(\"The value of b can't be 0\")\n",
    "    "
   ]
  },
  {
   "cell_type": "code",
   "execution_count": 33,
   "metadata": {},
   "outputs": [
    {
     "name": "stdout",
     "output_type": "stream",
     "text": [
      "b is smaller than a\n"
     ]
    }
   ],
   "source": [
    "a = 10\n",
    "b = 20\n",
    "try:\n",
    "    assert a>b\n",
    "    print(\"a is smaller tha b\")\n",
    "except AssertionError:\n",
    "    print(\"b is smaller than a\")\n"
   ]
  },
  {
   "cell_type": "code",
   "execution_count": 39,
   "metadata": {},
   "outputs": [
    {
     "name": "stdout",
     "output_type": "stream",
     "text": [
      "Enter nameram\n",
      "You must enter first alphabet capital\n"
     ]
    }
   ],
   "source": [
    "try:\n",
    "    name=input(\"Enter name\")\n",
    "    assert name[0].isupper()\n",
    "    print(\"You entered\",name)\n",
    "except AssertionError:\n",
    "    print(\"You must enter first alphabet capital\")"
   ]
  },
  {
   "cell_type": "code",
   "execution_count": 8,
   "metadata": {},
   "outputs": [
    {
     "ename": "IndentationError",
     "evalue": "unexpected indent (<ipython-input-8-3e88931f684f>, line 3)",
     "output_type": "error",
     "traceback": [
      "\u001b[1;36m  File \u001b[1;32m\"<ipython-input-8-3e88931f684f>\"\u001b[1;36m, line \u001b[1;32m3\u001b[0m\n\u001b[1;33m    a = int(input(\"Enter a =\"))\u001b[0m\n\u001b[1;37m    ^\u001b[0m\n\u001b[1;31mIndentationError\u001b[0m\u001b[1;31m:\u001b[0m unexpected indent\n"
     ]
    }
   ],
   "source": [
    "s=0\n",
    "def cal():\n",
    "    try:\n",
    "        a = int(input(\"Enter a =\"))\n",
    "        b = int(input(\"Enter b =\"))\n",
    "        c = a/b\n",
    "        print(c)\n",
    "    except ZeroDivisionError:\n",
    "        print(\"There is error\")\n",
    "        cal()\n",
    "    except ValueError:\n",
    "        print(\"a and b should be int\")\n",
    "        cal()\n",
    "    finally:\n",
    "        s=s+1    \n",
    "        b=s\n",
    "        \n",
    "cal()\n",
    "print(f\"your program has been complete after {s} try\")"
   ]
  },
  {
   "cell_type": "code",
   "execution_count": 19,
   "metadata": {},
   "outputs": [
    {
     "ename": "SyntaxError",
     "evalue": "invalid syntax (<ipython-input-19-a0998553421d>, line 14)",
     "output_type": "error",
     "traceback": [
      "\u001b[1;36m  File \u001b[1;32m\"<ipython-input-19-a0998553421d>\"\u001b[1;36m, line \u001b[1;32m14\u001b[0m\n\u001b[1;33m    except UnboundLocalError\u001b[0m\n\u001b[1;37m                            ^\u001b[0m\n\u001b[1;31mSyntaxError\u001b[0m\u001b[1;31m:\u001b[0m invalid syntax\n"
     ]
    }
   ],
   "source": [
    "def addd():\n",
    "    b=b+1\n",
    "    \n",
    "def cal():\n",
    "    try:\n",
    "        \n",
    "        a = int(input(\"Enter a = \"))\n",
    "        b = int(input(\"Enter b = \"))\n",
    "        c = a/b\n",
    "        print(c)\n",
    "    except ZeroDivisionError:\n",
    "        print(\"The value of b should not be zero\")\n",
    "        cal()\n",
    "    except ValueError:\n",
    "        print(\"a and b should be int\")\n",
    "        cal()\n",
    "    except UnboundLocalError\n",
    "    finally:\n",
    "        add()\n",
    "        \n",
    "        \n",
    "        \n",
    "s=0\n",
    "cal()\n",
    "print(b)\n"
   ]
  },
  {
   "cell_type": "code",
   "execution_count": null,
   "metadata": {},
   "outputs": [],
   "source": []
  }
 ],
 "metadata": {
  "kernelspec": {
   "display_name": "Python 3",
   "language": "python",
   "name": "python3"
  },
  "language_info": {
   "codemirror_mode": {
    "name": "ipython",
    "version": 3
   },
   "file_extension": ".py",
   "mimetype": "text/x-python",
   "name": "python",
   "nbconvert_exporter": "python",
   "pygments_lexer": "ipython3",
   "version": "3.8.5"
  }
 },
 "nbformat": 4,
 "nbformat_minor": 4
}
