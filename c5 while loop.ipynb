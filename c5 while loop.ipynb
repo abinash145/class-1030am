{
 "cells": [
  {
   "cell_type": "code",
   "execution_count": 1,
   "metadata": {},
   "outputs": [],
   "source": [
    "# while loop\n",
    "# while <condition>:\n",
    "#     <operations>\n",
    "\n"
   ]
  },
  {
   "cell_type": "code",
   "execution_count": 2,
   "metadata": {},
   "outputs": [
    {
     "name": "stdout",
     "output_type": "stream",
     "text": [
      "Hello World\n",
      "Hello World\n",
      "Hello World\n",
      "Hello World\n",
      "Hello World\n"
     ]
    }
   ],
   "source": [
    "a = 0\n",
    "while a<5:\n",
    "    print(\"Hello World\")\n",
    "    a = a+1"
   ]
  },
  {
   "cell_type": "code",
   "execution_count": 3,
   "metadata": {},
   "outputs": [
    {
     "name": "stdout",
     "output_type": "stream",
     "text": [
      "enter n =5\n",
      "Enter x =1\n",
      "Enter x =1\n",
      "Enter x =1\n",
      "Enter x =1\n",
      "Enter x =1\n",
      "5\n"
     ]
    }
   ],
   "source": [
    "s = 0 \n",
    "i = 0\n",
    "n = int(input(\"enter n =\"))\n",
    "while i<n:\n",
    "    x = int(input(\"Enter x =\"))\n",
    "    s=s+x\n",
    "    i=i+1\n",
    "print(s)\n",
    "    "
   ]
  },
  {
   "cell_type": "code",
   "execution_count": 2,
   "metadata": {},
   "outputs": [
    {
     "name": "stdout",
     "output_type": "stream",
     "text": [
      "enter n=5\n",
      "5 * 1 = 5\n",
      "5 * 2 = 10\n",
      "5 * 3 = 15\n",
      "5 * 4 = 20\n",
      "5 * 5 = 25\n",
      "5 * 6 = 30\n",
      "5 * 7 = 35\n",
      "5 * 8 = 40\n",
      "5 * 9 = 45\n",
      "5 * 10 = 50\n"
     ]
    }
   ],
   "source": [
    "i=1\n",
    "n=int(input(\"enter n=\"))\n",
    "while i<11:\n",
    "    print(n,\"*\",i,\"=\",n*i)\n",
    "    i=i+1"
   ]
  },
  {
   "cell_type": "code",
   "execution_count": 5,
   "metadata": {},
   "outputs": [
    {
     "name": "stdout",
     "output_type": "stream",
     "text": [
      "enter n =2\n",
      "enter name =sf\n",
      "enter phone =3\n",
      "enter name =sdf\n",
      "enter phone =3\n",
      "1sf 3\n",
      "2sdf 3\n",
      "\n"
     ]
    }
   ],
   "source": [
    "s=\"\"\n",
    "i=1\n",
    "n = int(input(\"enter n =\"))\n",
    "while i<=n:\n",
    "    name=input(\"enter name =\")\n",
    "    phone=input(\"enter phone =\")\n",
    "    s=s+str(i)+\" \"+name+\" \"+phone+\"\\n\"\n",
    "    i = i+1  \n",
    "print(s)"
   ]
  },
  {
   "cell_type": "code",
   "execution_count": 9,
   "metadata": {},
   "outputs": [
    {
     "name": "stdout",
     "output_type": "stream",
     "text": [
      "enter the no5\n",
      "120\n"
     ]
    }
   ],
   "source": [
    "fac=1\n",
    "i=1\n",
    "n=int(input(\"enter the no\"))\n",
    "while i<=n:\n",
    "    fac=fac*i\n",
    "    i=i+1\n",
    "print(fac)"
   ]
  },
  {
   "cell_type": "code",
   "execution_count": 13,
   "metadata": {},
   "outputs": [
    {
     "name": "stdout",
     "output_type": "stream",
     "text": [
      "5 python\n",
      "4 python\n",
      "3 python\n",
      "2 python\n",
      "1 python\n"
     ]
    }
   ],
   "source": [
    "i = 5\n",
    "while i>=1:\n",
    "    print(i,\"python\")\n",
    "    i=i-1\n"
   ]
  },
  {
   "cell_type": "code",
   "execution_count": 23,
   "metadata": {},
   "outputs": [
    {
     "name": "stdout",
     "output_type": "stream",
     "text": [
      "5 n\n",
      "4 o\n",
      "3 h\n",
      "2 t\n",
      "1 y\n",
      "0 p\n"
     ]
    }
   ],
   "source": [
    "a=\"python\"\n",
    "n=len(a)-1\n",
    "while n>=0:\n",
    "    print(n,a[n])\n",
    "    n=n-1\n",
    "    "
   ]
  },
  {
   "cell_type": "code",
   "execution_count": 26,
   "metadata": {},
   "outputs": [
    {
     "name": "stdout",
     "output_type": "stream",
     "text": [
      "enter any data = abinashr\n",
      "7 r\n",
      "6 h\n",
      "5 s\n",
      "4 a\n",
      "3 n\n",
      "2 i\n",
      "1 b\n",
      "0 a\n"
     ]
    }
   ],
   "source": [
    "a=input(\"enter any data = \")\n",
    "n=len(a)-1\n",
    "while n>=0:\n",
    "    print(n,a[n])\n",
    "    n=n-1\n",
    "    "
   ]
  },
  {
   "cell_type": "code",
   "execution_count": 27,
   "metadata": {},
   "outputs": [],
   "source": [
    "# while as if/else"
   ]
  },
  {
   "cell_type": "code",
   "execution_count": 36,
   "metadata": {},
   "outputs": [
    {
     "name": "stdout",
     "output_type": "stream",
     "text": [
      "Hellow"
     ]
    }
   ],
   "source": [
    "# break continue pass\n",
    "a = \"Hellow World\"\n",
    "for i in a:\n",
    "    if i ==\" \":\n",
    "        break\n",
    "    print(i,end=\"\")"
   ]
  },
  {
   "cell_type": "code",
   "execution_count": 34,
   "metadata": {},
   "outputs": [
    {
     "name": "stdout",
     "output_type": "stream",
     "text": [
      "HellowWorld"
     ]
    }
   ],
   "source": [
    "a = \"Hellow World\"\n",
    "for i in a:\n",
    "    if i ==\" \":\n",
    "        continue\n",
    "    print(i,end=\"\")"
   ]
  },
  {
   "cell_type": "code",
   "execution_count": 40,
   "metadata": {},
   "outputs": [
    {
     "name": "stdout",
     "output_type": "stream",
     "text": [
      "5\n",
      "10\n",
      "15\n",
      "20\n",
      "25\n",
      "30\n",
      "35\n",
      "40\n",
      "45\n",
      "50\n"
     ]
    }
   ],
   "source": [
    "for i in range(1,51):\n",
    "    if i%5 !=0:\n",
    "        continue\n",
    "    print(i)"
   ]
  },
  {
   "cell_type": "code",
   "execution_count": 43,
   "metadata": {},
   "outputs": [
    {
     "name": "stdout",
     "output_type": "stream",
     "text": [
      "Apple\n",
      "Cat\n"
     ]
    }
   ],
   "source": [
    "a=[\"Apple\",\"Ball\",\"Cat\",\"Ball\"]\n",
    "for i in a:\n",
    "    if i == \"Ball\":\n",
    "        \n",
    "        continue\n",
    "    print(i)"
   ]
  },
  {
   "cell_type": "code",
   "execution_count": 58,
   "metadata": {},
   "outputs": [
    {
     "name": "stdout",
     "output_type": "stream",
     "text": [
      "enter the value of n = 19\n",
      "this is prime\n"
     ]
    }
   ],
   "source": [
    "n=int(input(\"enter the value of n = \"))\n",
    "if n>2:\n",
    "    for i in range(2,n//2+2):\n",
    "        if n%i==0:\n",
    "            print(\"this is composite\")\n",
    "            break\n",
    "    else:\n",
    "        print(\"this is prime\")\n",
    "            \n",
    "else:\n",
    "    print(\"this is prime\")\n",
    "    "
   ]
  },
  {
   "cell_type": "code",
   "execution_count": 62,
   "metadata": {},
   "outputs": [],
   "source": [
    "def cal():\n",
    "    pass\n",
    "cal()"
   ]
  },
  {
   "cell_type": "code",
   "execution_count": 63,
   "metadata": {},
   "outputs": [],
   "source": [
    "for i in range(5):\n",
    "    pass"
   ]
  },
  {
   "cell_type": "code",
   "execution_count": 67,
   "metadata": {},
   "outputs": [],
   "source": [
    "# pass ko km chai null value dincha yasle kai na lakdani sintax error dekhau daina pachi pass lai metayaera aaeru value halnu micha\n",
    "a=10\n",
    "b=20\n",
    "if a<b:\n",
    "    pass\n",
    "else:\n",
    "    pass"
   ]
  },
  {
   "cell_type": "code",
   "execution_count": null,
   "metadata": {},
   "outputs": [],
   "source": []
  }
 ],
 "metadata": {
  "kernelspec": {
   "display_name": "Python 3",
   "language": "python",
   "name": "python3"
  },
  "language_info": {
   "codemirror_mode": {
    "name": "ipython",
    "version": 3
   },
   "file_extension": ".py",
   "mimetype": "text/x-python",
   "name": "python",
   "nbconvert_exporter": "python",
   "pygments_lexer": "ipython3",
   "version": "3.8.5"
  }
 },
 "nbformat": 4,
 "nbformat_minor": 4
}
