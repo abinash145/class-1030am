{
 "cells": [
  {
   "cell_type": "code",
   "execution_count": 3,
   "metadata": {},
   "outputs": [
    {
     "name": "stdout",
     "output_type": "stream",
     "text": [
      "enter how many item q= 1\n",
      "enter name of the product = abinash\n",
      "enter the  quantity  = 2\n",
      "enter pirce = 3\n"
     ]
    }
   ],
   "source": [
    "s=[]\n",
    "q=int(input(\"enter how many item q= \"))\n",
    "# for i in range(q):\n",
    "#     for j in range(b): \n",
    "name=input(\"enter name of the product = \")\n",
    "quantity=int(input(\"enter the  quantity  = \"))\n",
    "price=int(input(\"enter pirce = \"))\n",
    "total=quantity*price\n",
    "s=[name,quantity,total]\n"
   ]
  },
  {
   "cell_type": "code",
   "execution_count": null,
   "metadata": {},
   "outputs": [],
   "source": [
    "print"
   ]
  }
 ],
 "metadata": {
  "kernelspec": {
   "display_name": "Python 3",
   "language": "python",
   "name": "python3"
  },
  "language_info": {
   "codemirror_mode": {
    "name": "ipython",
    "version": 3
   },
   "file_extension": ".py",
   "mimetype": "text/x-python",
   "name": "python",
   "nbconvert_exporter": "python",
   "pygments_lexer": "ipython3",
   "version": "3.8.5"
  }
 },
 "nbformat": 4,
 "nbformat_minor": 4
}
