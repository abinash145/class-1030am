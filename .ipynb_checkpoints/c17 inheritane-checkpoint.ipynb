{
 "cells": [
  {
   "cell_type": "code",
   "execution_count": 10,
   "metadata": {},
   "outputs": [
    {
     "name": "stdout",
     "output_type": "stream",
     "text": [
      "Hello I am Ram. I am 67 years old\n",
      "Shyam 34\n"
     ]
    },
    {
     "ename": "AttributeError",
     "evalue": "'Profile' object has no attribute 'Profile'",
     "output_type": "error",
     "traceback": [
      "\u001b[1;31m---------------------------------------------------------------------------\u001b[0m",
      "\u001b[1;31mAttributeError\u001b[0m                            Traceback (most recent call last)",
      "\u001b[1;32m<ipython-input-10-63a826f87982>\u001b[0m in \u001b[0;36m<module>\u001b[1;34m\u001b[0m\n\u001b[0;32m     12\u001b[0m \u001b[0mobj1\u001b[0m\u001b[1;33m=\u001b[0m\u001b[0mProfile\u001b[0m\u001b[1;33m(\u001b[0m\u001b[1;34m\"Shyam\"\u001b[0m\u001b[1;33m,\u001b[0m\u001b[1;36m34\u001b[0m\u001b[1;33m)\u001b[0m\u001b[1;33m\u001b[0m\u001b[1;33m\u001b[0m\u001b[0m\n\u001b[0;32m     13\u001b[0m \u001b[0mprint\u001b[0m\u001b[1;33m(\u001b[0m\u001b[0mobj1\u001b[0m\u001b[1;33m.\u001b[0m\u001b[0mname\u001b[0m\u001b[1;33m,\u001b[0m\u001b[0mobj1\u001b[0m\u001b[1;33m.\u001b[0m\u001b[0mage\u001b[0m\u001b[1;33m)\u001b[0m\u001b[1;33m\u001b[0m\u001b[1;33m\u001b[0m\u001b[0m\n\u001b[1;32m---> 14\u001b[1;33m \u001b[0mobj1\u001b[0m\u001b[1;33m.\u001b[0m\u001b[0mProfile\u001b[0m\u001b[1;33m(\u001b[0m\u001b[1;33m)\u001b[0m\u001b[1;33m\u001b[0m\u001b[1;33m\u001b[0m\u001b[0m\n\u001b[0m",
      "\u001b[1;31mAttributeError\u001b[0m: 'Profile' object has no attribute 'Profile'"
     ]
    }
   ],
   "source": [
    "class Profile:\n",
    "    def __init__(self,name,age):\n",
    "        self.name=name\n",
    "        self.age=age\n",
    "class Hr(Profile):\n",
    "    def hello(self):\n",
    "        \n",
    "        print(f\"Hello I am {self.name}. I am {self.age} years old\")\n",
    "obj= Hr(\"Ram\",67)\n",
    "obj.hello()\n",
    "\n",
    "obj1=Profile(\"Shyam\",34)\n",
    "print(obj1.name,obj1.age)\n"
   ]
  },
  {
   "cell_type": "code",
   "execution_count": 11,
   "metadata": {},
   "outputs": [
    {
     "name": "stdout",
     "output_type": "stream",
     "text": [
      "this is class a\n",
      "this is class b\n",
      "this is class c\n"
     ]
    }
   ],
   "source": [
    "class A:\n",
    "    print(\"this is class a\")\n",
    "class B(A):\n",
    "    print(\"this is class b\")\n",
    "class C(B):\n",
    "    print(\"this is class c\")\n",
    "obj=C()\n",
    "    "
   ]
  },
  {
   "cell_type": "code",
   "execution_count": 15,
   "metadata": {},
   "outputs": [
    {
     "name": "stdout",
     "output_type": "stream",
     "text": [
      "Hello I am Ram. I am 67 years old\n",
      "Ram 67\n",
      "Shyam 34\n"
     ]
    }
   ],
   "source": [
    "class Profile:\n",
    "    def __init__(self,name,age):\n",
    "        self.name=name\n",
    "        self.age=age\n",
    "class Office(Profile):\n",
    "    def office(self):\n",
    "        print(self.name,self.age)\n",
    "    \n",
    "class Hr(Office):\n",
    "    def hello(self):\n",
    "        print(f\"Hello I am {self.name}. I am {self.age} years old\")\n",
    "obj= Hr(\"Ram\",67)\n",
    "obj.hello()\n",
    "obj.office()\n",
    "\n",
    "obj1=Profile(\"Shyam\",34)\n",
    "print(obj1.name,obj1.age)\n"
   ]
  },
  {
   "cell_type": "code",
   "execution_count": 20,
   "metadata": {},
   "outputs": [
    {
     "name": "stdout",
     "output_type": "stream",
     "text": [
      "Hello I am Ram. I am 67 years old\n",
      "Ram 67\n"
     ]
    }
   ],
   "source": [
    "class Profile:\n",
    "    def __init__(self,age):\n",
    "        self.age=age\n",
    "class Office(Profile):\n",
    "    def __init__(self,name,age):\n",
    "        self.name=name\n",
    "        Profile.__init__(self,age)\n",
    "    def office(self):\n",
    "        print(self.name,self.age)\n",
    "    \n",
    "class Hr(Office):\n",
    "    def hello(self):\n",
    "        print(f\"Hello I am {self.name}. I am {self.age} years old\")\n",
    "obj= Hr(\"Ram\",67)\n",
    "obj.hello()\n",
    "obj.office()\n",
    "\n",
    "\n"
   ]
  },
  {
   "cell_type": "code",
   "execution_count": null,
   "metadata": {},
   "outputs": [],
   "source": []
  },
  {
   "cell_type": "code",
   "execution_count": 22,
   "metadata": {},
   "outputs": [
    {
     "name": "stdout",
     "output_type": "stream",
     "text": [
      "This is class A\n",
      "This is class B\n"
     ]
    }
   ],
   "source": [
    "class A:\n",
    "    def a(self):\n",
    "        print(\"This is class A\")\n",
    "class B:\n",
    "    def b(self):\n",
    "        print(\"This is class B\")\n",
    "class C(A,B):\n",
    "    def c(self):\n",
    "        print(\"This is class C\")\n",
    "obj=C()\n",
    "obj.a()\n",
    "obj.b()"
   ]
  },
  {
   "cell_type": "code",
   "execution_count": 17,
   "metadata": {},
   "outputs": [
    {
     "name": "stdout",
     "output_type": "stream",
     "text": [
      "Ram\n",
      "2\n"
     ]
    }
   ],
   "source": [
    "class Person:\n",
    "    def __init__(self,personName,personAge):\n",
    "        self.name=personName\n",
    "        self.age=personAge\n",
    "    def showName(self):\n",
    "        print(self.name)\n",
    "    def showAge(self):\n",
    "        print(self.age)\n",
    "class Student:\n",
    "    def __init__(self,studentId):\n",
    "        self.studentId=studentId\n",
    "    def getId(self):\n",
    "        return self.studentId\n",
    "class Resident(Person,Student):\n",
    "    def __init__(self,name,age,id):\n",
    "        \n",
    "    \n",
    "        Person.__init__(self,name,age)\n",
    "        Student.__init__(self,id)\n",
    "resident1=Resident('Ram',25,2)\n",
    "resident1.showName()\n",
    "print(resident1.getId())\n",
    "    \n",
    "       "
   ]
  },
  {
   "cell_type": "code",
   "execution_count": 27,
   "metadata": {},
   "outputs": [
    {
     "name": "stdout",
     "output_type": "stream",
     "text": [
      "Ram\n",
      "2\n"
     ]
    }
   ],
   "source": [
    "class Person:\n",
    "    #defining constructor\n",
    "    def __init__(self, personName, personAge):  \n",
    "        self.name = personName  \n",
    "        self.age = personAge  \n",
    "    #defining class methods\n",
    "    def showName(self):  \n",
    "        print(self.name)  \n",
    "    def showAge(self):  \n",
    "        print(self.age)  \n",
    "class Student: # Person is the  \n",
    "    def __init__(self, studentId):  \n",
    "        self.studentId = studentId  \n",
    "    def getId(self):  \n",
    "        return self.studentId  \n",
    "class Resident(Person, Student): # extends both Person and Student class  \n",
    "    def __init__(self, name, age, id):  \n",
    "        Person.__init__(self, name, age)  \n",
    "        Student.__init__(self, id)  \n",
    "        # Create an object of the subclass  \n",
    "resident1 = Resident('Ram', 25, '2')  \n",
    "resident1.showName()  \n",
    "print(resident1.getId()) "
   ]
  },
  {
   "cell_type": "code",
   "execution_count": 21,
   "metadata": {},
   "outputs": [
    {
     "name": "stdout",
     "output_type": "stream",
     "text": [
      "abinash\n"
     ]
    }
   ],
   "source": [
    "class Person:\n",
    "\n",
    "    def __init__(self,name,age):\n",
    "        self.name=name\n",
    "        self.age=age\n",
    "    def pname(self):\n",
    "        print(self.name)\n",
    "class Address(Person):\n",
    "    def __init__(self,address):\n",
    "        self.address=address\n",
    "    def paadress():\n",
    "        print(self.address)\n",
    "class Value(Address):\n",
    "    def __init__(self,name,age,address):      \n",
    "        Person.__init__(self,name,age)\n",
    "        Address.__init__(self,address)\n",
    "obj = Value(\"abinash\",23,\"dharan\")\n",
    "obj.pname()\n",
    "\n",
    "        \n",
    "        \n",
    "    \n",
    "        "
   ]
  },
  {
   "cell_type": "code",
   "execution_count": null,
   "metadata": {},
   "outputs": [],
   "source": []
  },
  {
   "cell_type": "code",
   "execution_count": null,
   "metadata": {},
   "outputs": [],
   "source": []
  }
 ],
 "metadata": {
  "kernelspec": {
   "display_name": "Python 3",
   "language": "python",
   "name": "python3"
  },
  "language_info": {
   "codemirror_mode": {
    "name": "ipython",
    "version": 3
   },
   "file_extension": ".py",
   "mimetype": "text/x-python",
   "name": "python",
   "nbconvert_exporter": "python",
   "pygments_lexer": "ipython3",
   "version": "3.8.5"
  }
 },
 "nbformat": 4,
 "nbformat_minor": 4
}
