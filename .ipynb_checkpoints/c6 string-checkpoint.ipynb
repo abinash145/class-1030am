{
 "cells": [
  {
   "cell_type": "code",
   "execution_count": 1,
   "metadata": {},
   "outputs": [
    {
     "name": "stdout",
     "output_type": "stream",
     "text": [
      "Hello World\n",
      "<class 'str'>\n"
     ]
    }
   ],
   "source": [
    "a = \"Hello World\"\n",
    "print(a)\n",
    "print(type(a))"
   ]
  },
  {
   "cell_type": "code",
   "execution_count": 2,
   "metadata": {},
   "outputs": [
    {
     "name": "stdout",
     "output_type": "stream",
     "text": [
      "hello world\n"
     ]
    }
   ],
   "source": [
    "a=\"hello\"\n",
    "b=\" world\"\n",
    "print(a+b)"
   ]
  },
  {
   "cell_type": "code",
   "execution_count": 6,
   "metadata": {},
   "outputs": [
    {
     "name": "stdout",
     "output_type": "stream",
     "text": [
      "Hello World\n",
      "Hello World\n",
      "\n"
     ]
    }
   ],
   "source": [
    "a = \"Hello World\\n\"\n",
    "print(a*2)"
   ]
  },
  {
   "cell_type": "code",
   "execution_count": 10,
   "metadata": {},
   "outputs": [
    {
     "name": "stdout",
     "output_type": "stream",
     "text": [
      "p\n"
     ]
    }
   ],
   "source": [
    "a=\"python\"\n",
    "print(a[0])"
   ]
  },
  {
   "cell_type": "code",
   "execution_count": 24,
   "metadata": {},
   "outputs": [
    {
     "name": "stdout",
     "output_type": "stream",
     "text": [
      "Hello\n",
      "Hlowrdti s\n"
     ]
    }
   ],
   "source": [
    "a=\"Hello world this is python\"\n",
    "print(a[0:5])\n",
    "print(a[0:20:2])"
   ]
  },
  {
   "cell_type": "code",
   "execution_count": 25,
   "metadata": {},
   "outputs": [
    {
     "name": "stdout",
     "output_type": "stream",
     "text": [
      "nohtyp\n"
     ]
    }
   ],
   "source": [
    "a=\"python\"\n",
    "print(a[5::-1])"
   ]
  },
  {
   "cell_type": "code",
   "execution_count": 34,
   "metadata": {},
   "outputs": [
    {
     "name": "stdout",
     "output_type": "stream",
     "text": [
      "Apple Ball\n"
     ]
    }
   ],
   "source": [
    "# STRING FORMATTING\n",
    "a =\"Apple\"\n",
    "b =\"Ball\"\n",
    "c =f\"{a} {b}\"\n",
    "print(c)"
   ]
  },
  {
   "cell_type": "code",
   "execution_count": 38,
   "metadata": {},
   "outputs": [
    {
     "name": "stdout",
     "output_type": "stream",
     "text": [
      "enter name=sfdfd\n",
      "enter age = 3\n",
      "enter address = er\n",
      "Hello my name is sfdfd.I am from er.I am 3\n"
     ]
    }
   ],
   "source": [
    "name = input(\"enter name=\")\n",
    "age = int(input(\"enter age = \"))\n",
    "add = input(\"enter address = \")\n",
    "info=f\"Hello my name is {name}.I am from {add}.I am {age}\"\n",
    "print(info)"
   ]
  },
  {
   "cell_type": "code",
   "execution_count": 42,
   "metadata": {},
   "outputs": [
    {
     "name": "stdout",
     "output_type": "stream",
     "text": [
      "enter the value of n = 2\n",
      "enter name= abi\n",
      "enter age = 3\n",
      "abi------3\n",
      "enter name= anl\n",
      "enter age = 3\n",
      "abi------3anl------3\n"
     ]
    }
   ],
   "source": [
    "s=\"\"\n",
    "n = int(input(\"enter the value of n = \"))\n",
    "for i in range(n):\n",
    "    name = input(\"enter name= \")\n",
    "    phone = int(input(\"enter age = \"))\n",
    "    info = f\"{name}------{phone}\"\n",
    "    s= s+info\n",
    "    print(s)"
   ]
  },
  {
   "cell_type": "code",
   "execution_count": 58,
   "metadata": {},
   "outputs": [
    {
     "name": "stdout",
     "output_type": "stream",
     "text": [
      "enter valueram\n",
      "yes 1\n"
     ]
    }
   ],
   "source": [
    "a=\"Hello My name is Ram.I am from Kathmandu.I am 34\".lower()\n",
    "value=input(\"enter value\").lower()\n",
    "if value in a:\n",
    "    print(\"yes\",a.count(value))\n",
    "else:\n",
    "    print(\"no\")\n"
   ]
  },
  {
   "cell_type": "code",
   "execution_count": 53,
   "metadata": {},
   "outputs": [
    {
     "data": {
      "text/plain": [
       "'HELLO MY NAME IS RAM.I AM FROM KATHMANDU.I AM 34'"
      ]
     },
     "execution_count": 53,
     "metadata": {},
     "output_type": "execute_result"
    }
   ],
   "source": [
    "a.upper()"
   ]
  },
  {
   "cell_type": "code",
   "execution_count": 55,
   "metadata": {},
   "outputs": [
    {
     "data": {
      "text/plain": [
       "'hello my name is ram.i am from kathmandu.i am 34'"
      ]
     },
     "execution_count": 55,
     "metadata": {},
     "output_type": "execute_result"
    }
   ],
   "source": [
    "a.lower()\n"
   ]
  },
  {
   "cell_type": "code",
   "execution_count": 76,
   "metadata": {},
   "outputs": [],
   "source": [
    "a=\"Ram--098798765\\nShyam---0987\"\n",
    "a=a.replace('Ram','Hari')\n",
    "\n"
   ]
  },
  {
   "cell_type": "code",
   "execution_count": 77,
   "metadata": {
    "scrolled": false
   },
   "outputs": [
    {
     "name": "stdout",
     "output_type": "stream",
     "text": [
      "Hari--098798765\n",
      "Shyam---0987\n"
     ]
    }
   ],
   "source": [
    "print(a)"
   ]
  },
  {
   "cell_type": "code",
   "execution_count": 79,
   "metadata": {},
   "outputs": [],
   "source": [
    "# .count()\n",
    "# .replace()\n",
    "# .lower()\n",
    "# .upper()\n",
    "# .split()"
   ]
  },
  {
   "cell_type": "code",
   "execution_count": 80,
   "metadata": {},
   "outputs": [],
   "source": [
    "# make mark sheet assignment\n",
    "# billing system"
   ]
  },
  {
   "cell_type": "code",
   "execution_count": 85,
   "metadata": {},
   "outputs": [
    {
     "data": {
      "text/plain": [
       "['Hello', 'World']"
      ]
     },
     "execution_count": 85,
     "metadata": {},
     "output_type": "execute_result"
    }
   ],
   "source": [
    "a = \"Hello World\"\n",
    "a.split()"
   ]
  },
  {
   "cell_type": "code",
   "execution_count": 12,
   "metadata": {},
   "outputs": [
    {
     "name": "stdout",
     "output_type": "stream",
     "text": [
      "enter how many student u want to enter = 1\n",
      "enter student name = abinash\n",
      "enter english mask = 40\n",
      "enter math mask = 40\n",
      "enter science mask = 40\n",
      "enter nepali mask = 40\n",
      "enter social mask = 4\n",
      "name of student = abinash\n",
      " english =40\n",
      " math=40\n",
      " science=40\n",
      " nepali=40\n",
      " social=4\n",
      "Total 164\n",
      "fail\n",
      "percent= 32.8\n"
     ]
    }
   ],
   "source": [
    "\n",
    "n=int(input(\"enter how many student u want to enter = \"))\n",
    "for i in range(n):\n",
    "    name=input(\"enter student name = \")\n",
    "    english=int(input(\"enter english mask = \"))\n",
    "    math=int(input(\"enter math mask = \"))\n",
    "    science=int(input(\"enter science mask = \"))\n",
    "    nepali=int(input(\"enter nepali mask = \"))\n",
    "    social=int(input(\"enter social mask = \"))\n",
    "    masksheet=f\"name of student = {name}\\n english ={english}\\n math={math}\\n science={science}\\n nepali={nepali}\\n social={social}\"\n",
    "    print(masksheet)\n",
    "    total=english+math+science+nepali+social\n",
    "    print(\"Total\",total)\n",
    "    percent=total/5\n",
    "    if english<40:\n",
    "        print(\"fail\")\n",
    "    elif math<40:\n",
    "        print(\"fail\")\n",
    "    elif science<40:\n",
    "        print(\"fail\")\n",
    "    elif nepali<40:\n",
    "        print(\"fail\")\n",
    "    elif social<40:\n",
    "        print(\"fail\")\n",
    "    else:\n",
    "        print(\"pass\")\n",
    "    print(\"percent=\",percent)\n",
    "\n"
   ]
  },
  {
   "cell_type": "code",
   "execution_count": 7,
   "metadata": {},
   "outputs": [
    {
     "name": "stdout",
     "output_type": "stream",
     "text": [
      "enter how many product are there2\n",
      "enter product nameab\n",
      "input product quantity2\n",
      "enter product price2\n",
      "ab=2*2is4\n",
      "\n",
      "enter product nameabbkl\n",
      "input product quantity2\n",
      "enter product price2\n",
      "abbkl=2*2is4\n",
      "\n",
      "8\n"
     ]
    }
   ],
   "source": [
    "a=0\n",
    "n=int(input(\"enter how many product are there\"))\n",
    "for i in range(n):\n",
    "    name=input(\"enter product name\")\n",
    "    quantity=int(input(\"input product quantity\"))\n",
    "    cost=int(input(\"enter product price\"))\n",
    "    total=quantity*cost\n",
    "    print(f\"{name}={quantity}*{cost}is{total}\\n\")\n",
    "    a=a+total\n",
    "print(a)\n",
    "\n",
    "\n",
    "    \n",
    "    "
   ]
  },
  {
   "cell_type": "code",
   "execution_count": 2,
   "metadata": {},
   "outputs": [
    {
     "name": "stdout",
     "output_type": "stream",
     "text": [
      "Enter name =apple\n",
      "['Apple,100,2,200']\n"
     ]
    }
   ],
   "source": [
    "a = s=[['Apple,100,2,200'],['Banana',200,3,600]]\n",
    "name= input(\"Enter name =\")\n",
    "for i in a:\n",
    "    if name.lower() in i[0].lower():\n",
    "        print(i)"
   ]
  },
  {
   "cell_type": "markdown",
   "metadata": {},
   "source": []
  },
  {
   "cell_type": "code",
   "execution_count": null,
   "metadata": {},
   "outputs": [],
   "source": [
    "name = input(\"enter name\")\n",
    "quantity = int(input(\"enter name\"))\n",
    "price = int(input(\"enter name\"))\n",
    "total=quantity*price\n",
    "a = s=[['Apple,100,2,200'],['Banana',200,3,600]]\n",
    "a.append([name,quantity,price,total])\n",
    "print(a)"
   ]
  },
  {
   "cell_type": "code",
   "execution_count": null,
   "metadata": {},
   "outputs": [],
   "source": [
    "# s=[]\n",
    "# n=int(input(\"enter how many product are there\"))\n",
    "# for i in range(n):\n",
    "#     name=input(\"enter product name\")\n",
    "#     quantity=int(input(\"input product quantity\"))\n",
    "#     cost=int(input(\"enter product price\"))\n",
    "#     total=quantity*cost\n",
    "#     data=[[name,quantity,cost,total]]\n",
    "#     s=s+data\n",
    "# print(a)\n",
    "\n",
    "\n",
    "\n",
    "    \n",
    "    "
   ]
  },
  {
   "cell_type": "code",
   "execution_count": 8,
   "metadata": {},
   "outputs": [],
   "source": []
  },
  {
   "cell_type": "code",
   "execution_count": 9,
   "metadata": {},
   "outputs": [],
   "source": [
    "# wap to update change or del the quantity in shopping"
   ]
  },
  {
   "cell_type": "code",
   "execution_count": 10,
   "metadata": {},
   "outputs": [
    {
     "name": "stdout",
     "output_type": "stream",
     "text": [
      "enter the new index0\n",
      "Enter quantity1\n",
      "2\n"
     ]
    }
   ],
   "source": [
    "s = [['Apple','100',2,200],['Banana',200,3,600],['milk,100,3,300']]\n",
    "index=int(input(\"enter the new index\"))\n",
    "quatity=int(input(\"Enter quantity\"))\n",
    "total = s[]\n",
    "s[index][2]=quantity\n",
    "s[index][3]=total\n",
    "print(s)"
   ]
  },
  {
   "cell_type": "code",
   "execution_count": null,
   "metadata": {},
   "outputs": [],
   "source": []
  }
 ],
 "metadata": {
  "kernelspec": {
   "display_name": "Python 3",
   "language": "python",
   "name": "python3"
  },
  "language_info": {
   "codemirror_mode": {
    "name": "ipython",
    "version": 3
   },
   "file_extension": ".py",
   "mimetype": "text/x-python",
   "name": "python",
   "nbconvert_exporter": "python",
   "pygments_lexer": "ipython3",
   "version": "3.8.5"
  }
 },
 "nbformat": 4,
 "nbformat_minor": 4
}
