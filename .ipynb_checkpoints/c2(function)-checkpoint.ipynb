{
 "cells": [
  {
   "cell_type": "code",
   "execution_count": 1,
   "metadata": {},
   "outputs": [],
   "source": [
    "#def<fuction_name>()\n",
    "#<operations>\n",
    "#....\n",
    "#<fucntion_name>()\n"
   ]
  },
  {
   "cell_type": "code",
   "execution_count": 8,
   "metadata": {},
   "outputs": [
    {
     "name": "stdout",
     "output_type": "stream",
     "text": [
      "Hello World\n"
     ]
    }
   ],
   "source": [
    "def hello():\n",
    " print(\"Hello World\")\n",
    "\n",
    "\n",
    "hello()"
   ]
  },
  {
   "cell_type": "code",
   "execution_count": 1,
   "metadata": {},
   "outputs": [
    {
     "ename": "NameError",
     "evalue": "name 'hello' is not defined",
     "output_type": "error",
     "traceback": [
      "\u001b[1;31m---------------------------------------------------------------------------\u001b[0m",
      "\u001b[1;31mNameError\u001b[0m                                 Traceback (most recent call last)",
      "\u001b[1;32m<ipython-input-1-b61783479ace>\u001b[0m in \u001b[0;36m<module>\u001b[1;34m\u001b[0m\n\u001b[1;32m----> 1\u001b[1;33m \u001b[0mhello\u001b[0m\u001b[1;33m(\u001b[0m\u001b[1;33m)\u001b[0m\u001b[1;33m\u001b[0m\u001b[1;33m\u001b[0m\u001b[0m\n\u001b[0m\u001b[0;32m      2\u001b[0m \u001b[1;32mdef\u001b[0m \u001b[0mhello\u001b[0m\u001b[1;33m(\u001b[0m\u001b[1;33m)\u001b[0m\u001b[1;33m:\u001b[0m\u001b[1;33m\u001b[0m\u001b[1;33m\u001b[0m\u001b[0m\n\u001b[0;32m      3\u001b[0m  \u001b[0mprint\u001b[0m\u001b[1;33m(\u001b[0m\u001b[1;34m\"fuction canot be called before defining it\"\u001b[0m\u001b[1;33m)\u001b[0m\u001b[1;33m\u001b[0m\u001b[1;33m\u001b[0m\u001b[0m\n\u001b[0;32m      4\u001b[0m \u001b[1;33m\u001b[0m\u001b[0m\n\u001b[0;32m      5\u001b[0m \u001b[1;33m\u001b[0m\u001b[0m\n",
      "\u001b[1;31mNameError\u001b[0m: name 'hello' is not defined"
     ]
    }
   ],
   "source": [
    "hello()\n",
    "def hello():\n",
    " print(\"fuction canot be called before defining it you have to define function and then only you can call it\")\n",
    "\n",
    "\n"
   ]
  },
  {
   "cell_type": "code",
   "execution_count": 2,
   "metadata": {},
   "outputs": [
    {
     "ename": "IndentationError",
     "evalue": "expected an indented block (<ipython-input-2-a3d21fb26713>, line 2)",
     "output_type": "error",
     "traceback": [
      "\u001b[1;36m  File \u001b[1;32m\"<ipython-input-2-a3d21fb26713>\"\u001b[1;36m, line \u001b[1;32m2\u001b[0m\n\u001b[1;33m    l = int(input(\"enter l = \"))\u001b[0m\n\u001b[1;37m    ^\u001b[0m\n\u001b[1;31mIndentationError\u001b[0m\u001b[1;31m:\u001b[0m expected an indented block\n"
     ]
    }
   ],
   "source": [
    "def area():\n",
    "l = int(input(\"enter l = \"))\n",
    "b = int(input(\"enter b= \"))\n",
    "a = l*b\n",
    "print(a)\n",
    "\n",
    "area()"
   ]
  },
  {
   "cell_type": "markdown",
   "metadata": {},
   "source": []
  },
  {
   "cell_type": "code",
   "execution_count": 7,
   "metadata": {},
   "outputs": [
    {
     "name": "stdout",
     "output_type": "stream",
     "text": [
      "enter l= 2\n",
      "enter b= 2\n",
      "4\n"
     ]
    }
   ],
   "source": [
    "# fucntion with no arguments and no return type\n",
    "def area():\n",
    "    l = int(input(\"enter l= \"))\n",
    "    b = int(input(\"enter b= \"))\n",
    "    global a #this is global variable which can be used outside of function\n",
    "    a = l*b\n",
    "   \n",
    "\n",
    "area()\n",
    "print(a)"
   ]
  },
  {
   "cell_type": "code",
   "execution_count": 1,
   "metadata": {},
   "outputs": [],
   "source": [
    "# fucntion with no arguments and no return type\n",
    "# fucntin with arguments and no return type\n",
    "# functin with no arguments and return type \n",
    "# function with arguments and return type"
   ]
  },
  {
   "cell_type": "code",
   "execution_count": 5,
   "metadata": {},
   "outputs": [
    {
     "name": "stdout",
     "output_type": "stream",
     "text": [
      "hello world\n"
     ]
    }
   ],
   "source": [
    "\n",
    "def hello(x): #x is parameter\n",
    "    print(x)\n",
    "hello(\"hello world\") #hello world is arguments"
   ]
  },
  {
   "cell_type": "markdown",
   "metadata": {},
   "source": [
    "\n"
   ]
  },
  {
   "cell_type": "code",
   "execution_count": 7,
   "metadata": {},
   "outputs": [
    {
     "name": "stdout",
     "output_type": "stream",
     "text": [
      "enter l =2\n",
      "enter b =3\n",
      "6\n"
     ]
    }
   ],
   "source": [
    "#fucntin with arguments and no return type\n",
    "def area(x,y):\n",
    "    a=x*y\n",
    "    print(a)\n",
    "\n",
    "l=int(input(\"enter l =\"))\n",
    "b=int(input(\"enter b =\"))\n",
    "\n",
    "area(l,b)"
   ]
  },
  {
   "cell_type": "code",
   "execution_count": 6,
   "metadata": {},
   "outputs": [
    {
     "name": "stdout",
     "output_type": "stream",
     "text": [
      "c\n",
      "c++\n",
      "Java\n",
      "python\n"
     ]
    }
   ],
   "source": [
    "def language(lan=\"python\"):\n",
    "    print(lan)\n",
    "language('c')\n",
    "language('c++')\n",
    "language('Java')\n",
    "language()\n"
   ]
  },
  {
   "cell_type": "code",
   "execution_count": 12,
   "metadata": {},
   "outputs": [
    {
     "name": "stdout",
     "output_type": "stream",
     "text": [
      "hello world\n"
     ]
    }
   ],
   "source": [
    "#fuction with no argument and return type \n",
    "def hello():\n",
    "    return\"hello world\"\n",
    "print(hello())    "
   ]
  },
  {
   "cell_type": "code",
   "execution_count": 13,
   "metadata": {},
   "outputs": [
    {
     "name": "stdout",
     "output_type": "stream",
     "text": [
      "hello world\n"
     ]
    }
   ],
   "source": [
    "#fuction with no argument and return type \n",
    "def hello():\n",
    "    return\"hello world\"\n",
    "a=hello()\n",
    "print(a) "
   ]
  },
  {
   "cell_type": "code",
   "execution_count": 6,
   "metadata": {},
   "outputs": [
    {
     "name": "stdout",
     "output_type": "stream",
     "text": [
      "the area is = 2000\n",
      "20000\n"
     ]
    }
   ],
   "source": [
    "def area():\n",
    "    l=100\n",
    "    b=20\n",
    "    a=l*b\n",
    "    return a\n",
    "\n",
    "\n",
    "ar = area()\n",
    "print(\"the area is =\",ar)\n",
    "h=10\n",
    "v=ar*h\n",
    "print(v)"
   ]
  },
  {
   "cell_type": "code",
   "execution_count": 3,
   "metadata": {},
   "outputs": [
    {
     "ename": "SyntaxError",
     "evalue": "invalid syntax (<ipython-input-3-0def933c68e7>, line 7)",
     "output_type": "error",
     "traceback": [
      "\u001b[1;36m  File \u001b[1;32m\"<ipython-input-3-0def933c68e7>\"\u001b[1;36m, line \u001b[1;32m7\u001b[0m\n\u001b[1;33m    ar = area(l,b):\u001b[0m\n\u001b[1;37m                  ^\u001b[0m\n\u001b[1;31mSyntaxError\u001b[0m\u001b[1;31m:\u001b[0m invalid syntax\n"
     ]
    }
   ],
   "source": [
    "def area(x,y):   \n",
    "    a=x*y\n",
    "    return a\n",
    "\n",
    "l=100\n",
    "b=20\n",
    "ar = area(l,b):\n",
    "print(\"the area is = \",ar)\n",
    "h = 10\n",
    "v = ar*h\n",
    "print(v)"
   ]
  },
  {
   "cell_type": "code",
   "execution_count": 8,
   "metadata": {},
   "outputs": [
    {
     "name": "stdout",
     "output_type": "stream",
     "text": [
      "50\n",
      "100\n"
     ]
    }
   ],
   "source": [
    "def area(l,b):\n",
    "    a=l*b\n",
    "    return a\n",
    "\n",
    "def volume(l,b,h):\n",
    "    v= area(l,b)*h\n",
    "    return v\n",
    "l=10\n",
    "b=5\n",
    "h=2\n",
    "print(area(l,b))\n",
    "print(volume(l,b,h))"
   ]
  },
  {
   "cell_type": "code",
   "execution_count": null,
   "metadata": {},
   "outputs": [],
   "source": [
    "# Recursive function\n",
    "def hello():\n",
    "    print(\"hello World\")\n",
    "    hello()\n",
    "hello()\n",
    "\n"
   ]
  },
  {
   "cell_type": "code",
   "execution_count": null,
   "metadata": {},
   "outputs": [],
   "source": [
    "# Recursive function\n",
    "def hello():\n",
    "    print(\"hello World\")\n",
    "    x = input(\"enter y for more print = \")\n",
    "    if x=='y':\n",
    "        hello()\n",
    "hello()\n",
    "\n"
   ]
  },
  {
   "cell_type": "code",
   "execution_count": 1,
   "metadata": {
    "scrolled": true
   },
   "outputs": [
    {
     "name": "stdout",
     "output_type": "stream",
     "text": [
      "enter p=3\n",
      "enter t=4\n",
      "enter r=5\n",
      "the value of i is 60.0\n",
      "enter y for more print = y\n",
      "enter p=4\n",
      "enter t=5\n",
      "enter r=6\n",
      "the value of i is 120.0\n",
      "enter y for more print = n\n"
     ]
    }
   ],
   "source": [
    "# Recursive function\n",
    "def hello():\n",
    "    p=float(input(\"enter p=\"))\n",
    "    t=float(input(\"enter t=\"))\n",
    "    r=float(input(\"enter r=\"))\n",
    "    i=p*t*r\n",
    "    print(\"the value of i is\",i)\n",
    "    x = input(\"enter y for more print = \")\n",
    "    if x=='y':\n",
    "        hello()\n",
    "hello()\n",
    "\n"
   ]
  },
  {
   "cell_type": "code",
   "execution_count": 5,
   "metadata": {},
   "outputs": [
    {
     "name": "stdout",
     "output_type": "stream",
     "text": [
      "3.141592653589793\n"
     ]
    }
   ],
   "source": [
    "# Math fuction\n",
    "import math as m\n",
    "print(m.pi)\n"
   ]
  },
  {
   "cell_type": "code",
   "execution_count": 8,
   "metadata": {
    "scrolled": true
   },
   "outputs": [
    {
     "name": "stdout",
     "output_type": "stream",
     "text": [
      "enter r =5\n",
      "78.53981633974483\n"
     ]
    }
   ],
   "source": [
    "import math as m \n",
    "r = int(input(\"enter r =\"))\n",
    "a=m.pi*m.pow(r,2)\n",
    "print(a)"
   ]
  },
  {
   "cell_type": "code",
   "execution_count": 11,
   "metadata": {},
   "outputs": [
    {
     "name": "stdout",
     "output_type": "stream",
     "text": [
      "3.141592653589793\n",
      "1.0\n"
     ]
    }
   ],
   "source": [
    "import math as m \n",
    "a=m.pi/2\n",
    "print(m.sin(a))"
   ]
  },
  {
   "cell_type": "code",
   "execution_count": 12,
   "metadata": {},
   "outputs": [
    {
     "name": "stdout",
     "output_type": "stream",
     "text": [
      "1.0\n"
     ]
    }
   ],
   "source": [
    "import math as m\n",
    "a = m.sin(m.pi/2)\n",
    "b = m.cos(m.pi/2)\n",
    "c = m.pow(a,2)+m.pow(b,2)\n",
    "print(c)"
   ]
  },
  {
   "cell_type": "code",
   "execution_count": null,
   "metadata": {},
   "outputs": [],
   "source": []
  },
  {
   "cell_type": "code",
   "execution_count": null,
   "metadata": {},
   "outputs": [],
   "source": []
  }
 ],
 "metadata": {
  "kernelspec": {
   "display_name": "Python 3",
   "language": "python",
   "name": "python3"
  },
  "language_info": {
   "codemirror_mode": {
    "name": "ipython",
    "version": 3
   },
   "file_extension": ".py",
   "mimetype": "text/x-python",
   "name": "python",
   "nbconvert_exporter": "python",
   "pygments_lexer": "ipython3",
   "version": "3.8.5"
  }
 },
 "nbformat": 4,
 "nbformat_minor": 4
}
